{
 "cells": [
  {
   "cell_type": "code",
   "execution_count": null,
   "metadata": {},
   "outputs": [],
   "source": []
  },
  {
   "cell_type": "code",
   "execution_count": 199,
   "metadata": {},
   "outputs": [],
   "source": [
    "from selenium import webdriver\n",
    "from selenium.webdriver.support.ui import WebDriverWait \n",
    "from selenium.webdriver.support import expected_conditions\n",
    "from bs4 import BeautifulSoup\n",
    "import re\n",
    "import pandas as pd\n",
    "import time\n",
    "import numpy as np\n",
    "import missingno as msno\n",
    "import matplotlib.pyplot as plt\n",
    "import math"
   ]
  },
  {
   "cell_type": "code",
   "execution_count": null,
   "metadata": {},
   "outputs": [],
   "source": [
    "def Scrape(start_page,end_page,file_name): #End page is not inclusive\n",
    "    names,addresses,beds,baths,year_built,tenure,property_type,mrt,price,sqft = [],[],[],[],[],[],[],[],[],[]\n",
    "    housing = ['HDB','HDB 2 Rooms','HDB 3 Rooms','HDB 4 Rooms','HDB 5 Rooms','HDB Executive','Condo','Apartment','Walk-up','Landed','Executive Condo','Terraced House','Corner Terrace','Semi-Detached','Bungalow','Good Class Bungalow','Cluster House']\n",
    "    chrome_options = webdriver.ChromeOptions()\n",
    "    for num in range(start_page,end_page):\n",
    "        driver = webdriver.Chrome(\"chromedriver.exe\")\n",
    "        driver.implicitly_wait(5)\n",
    "        driver.get('https://www.99.co/singapore/sale?page_num={}'.format(num))\n",
    "        time.sleep(3)\n",
    "        links =[]\n",
    "\n",
    "        soup=BeautifulSoup(driver.page_source, 'lxml')\n",
    "        for link in soup.find_all('a'):\n",
    "            if type(link.get('href'))==str and 'Search' in link.get('href') and 'page_num'not in link.get('href'):\n",
    "\n",
    "                links.append('https://www.99.co'+link.get('href'))\n",
    "\n",
    "\n",
    "        for c,i in enumerate(links): \n",
    "\n",
    "            driver.get(i)\n",
    "            time.sleep(1.5)\n",
    "            soup=BeautifulSoup(driver.page_source, 'lxml')\n",
    "            name = soup.find('h1', attrs={'class': '_3Wogd JMF8h lFqTi _1vzK2'})\n",
    "            names.append(name.getText())\n",
    "\n",
    "\n",
    "            address = soup.find_all('p', attrs={'class': 'dniCg _3j72o _2rhE-'})\n",
    "            a = []\n",
    "            for i in address:\n",
    "                a.append(i.getText())\n",
    "            addresses.append(re.findall('(\\(D\\d\\d\\)|\\(D\\d\\))',''.join(a)))\n",
    "\n",
    "            bed = soup.find_all('p', attrs={'class': '_2sIc2 _29qfj _2rhE-'})\n",
    "            temp1 = ['NA','NA','NA']\n",
    "            for i in bed:\n",
    "                if 'Bed'in i.getText().split() or 'Beds' in i.getText().split():\n",
    "                    temp1[0]=i.getText().split()[0]\n",
    "\n",
    "                elif 'Bath' in i.getText().split() or 'Baths' in i.getText().split():\n",
    "                    temp1[1]=i.getText().split()[0]\n",
    "\n",
    "                elif 'sqft' in i.getText().split():\n",
    "                    temp1[2]=i.getText().split()[0]\n",
    "                elif 'Studio' in i.getText().split():\n",
    "                    temp1[0]=i.getText()            \n",
    "                else:\n",
    "                    print('Please maunually get info for page{} and link with index {}'.format(num,c))\n",
    "\n",
    "            beds.append(temp1[0])\n",
    "            baths.append(temp1[1])\n",
    "            sqft.append(temp1[2])\n",
    "\n",
    "\n",
    "            info = soup.find_all('div', attrs={'class': '_3r4yN XCAFU'})\n",
    "            temp = ['NA','NA','NA']\n",
    "\n",
    "            for i in info:\n",
    "                if 'year' in i.getText().lower():\n",
    "                    temp[0]=i.getText()[:2]\n",
    "                elif 'Freehold' in i.getText():\n",
    "                    temp[0]=i.getText()\n",
    "                elif re.findall('\\d\\d\\d\\d',i.getText())!=[]:\n",
    "                    temp[1]=i.getText()\n",
    "                elif i.getText() in housing:\n",
    "                    temp[2]=i.getText()   \n",
    "            tenure.append(temp[0])\n",
    "            year_built.append(temp[1])\n",
    "            property_type.append(temp[2])\n",
    "\n",
    "            mrts = soup.find_all('p', attrs={'class': '_2sIc2 _2rhE- _1c-pJ'})\n",
    "            temp2 = ['NA']\n",
    "            for i in mrts:\n",
    "                if re.findall('\\(\\d+ m\\)',''.join(i.getText()))!=[]:\n",
    "                        temp2[0]=re.findall('\\(\\d+ m\\)',''.join(i.getText()))\n",
    "            mrt.append(temp2[0])\n",
    "\n",
    "\n",
    "\n",
    "            prices = soup.find('h2', attrs={'class': '_1zGm8 _3na6W _1vzK2'})\n",
    "            price.append(prices.getText()[1:])\n",
    "\n",
    "        if len(names)==len(addresses) and len(addresses)==len(beds) and len(beds)==len(baths) and len(baths)==len(year_built) and len(year_built)==len(tenure) and len(tenure)==len(property_type) and len(property_type)==len(mrt) and len(mrt)==len(price):\n",
    "            print('All good for page number {}!'.format(num))\n",
    "        else:\n",
    "            print('shit, houston we have a problem!')\n",
    "            break\n",
    "        driver.close()\n",
    "    data=pd.DataFrame(names,columns=['title'])\n",
    "    data['address_code']=addresses\n",
    "    data['beds']=beds\n",
    "    data['baths']=baths\n",
    "    data['year_built']=year_built\n",
    "    data['tenure']=tenure\n",
    "    data['property_type']=property_type\n",
    "    data['mrt_distance']=mrt\n",
    "    data['sqft']=sqft\n",
    "    data['price']=price\n",
    "    data.to_csv(file_name)\n",
    "    print('Scraped Successfully! :)')"
   ]
  },
  {
   "cell_type": "code",
   "execution_count": 93,
   "metadata": {},
   "outputs": [
    {
     "data": {
      "text/html": [
       "<div>\n",
       "<style scoped>\n",
       "    .dataframe tbody tr th:only-of-type {\n",
       "        vertical-align: middle;\n",
       "    }\n",
       "\n",
       "    .dataframe tbody tr th {\n",
       "        vertical-align: top;\n",
       "    }\n",
       "\n",
       "    .dataframe thead th {\n",
       "        text-align: right;\n",
       "    }\n",
       "</style>\n",
       "<table border=\"1\" class=\"dataframe\">\n",
       "  <thead>\n",
       "    <tr style=\"text-align: right;\">\n",
       "      <th></th>\n",
       "      <th>Unnamed: 0</th>\n",
       "      <th>title</th>\n",
       "      <th>address_code</th>\n",
       "      <th>beds</th>\n",
       "      <th>baths</th>\n",
       "      <th>year_built</th>\n",
       "      <th>tenure</th>\n",
       "      <th>property_type</th>\n",
       "      <th>mrt_distance</th>\n",
       "      <th>sqft</th>\n",
       "      <th>price</th>\n",
       "    </tr>\n",
       "  </thead>\n",
       "  <tbody>\n",
       "    <tr>\n",
       "      <th>0</th>\n",
       "      <td>0</td>\n",
       "      <td>HDB Flat for Sale in 110A Depot Road</td>\n",
       "      <td>['(D4)']</td>\n",
       "      <td>3</td>\n",
       "      <td>3.0</td>\n",
       "      <td>NaN</td>\n",
       "      <td>99</td>\n",
       "      <td>HDB</td>\n",
       "      <td>NaN</td>\n",
       "      <td>990</td>\n",
       "      <td>730,000</td>\n",
       "    </tr>\n",
       "    <tr>\n",
       "      <th>1</th>\n",
       "      <td>1</td>\n",
       "      <td>HDB Flat for Sale in 208B Clementi Avenue 6</td>\n",
       "      <td>['(D5)']</td>\n",
       "      <td>2</td>\n",
       "      <td>2.0</td>\n",
       "      <td>NaN</td>\n",
       "      <td>NaN</td>\n",
       "      <td>HDB 3 Rooms</td>\n",
       "      <td>['(906 m)']</td>\n",
       "      <td>731</td>\n",
       "      <td>610,000</td>\n",
       "    </tr>\n",
       "    <tr>\n",
       "      <th>2</th>\n",
       "      <td>2</td>\n",
       "      <td>HDB Flat for Sale in 560 Hougang Street 51</td>\n",
       "      <td>['(D19)']</td>\n",
       "      <td>4</td>\n",
       "      <td>2.0</td>\n",
       "      <td>1999</td>\n",
       "      <td>99</td>\n",
       "      <td>HDB</td>\n",
       "      <td>['(438 m)']</td>\n",
       "      <td>1,539</td>\n",
       "      <td>768,000</td>\n",
       "    </tr>\n",
       "    <tr>\n",
       "      <th>3</th>\n",
       "      <td>3</td>\n",
       "      <td>HDB Flat for Sale in 322C Anchorvale Drive</td>\n",
       "      <td>['(D19)']</td>\n",
       "      <td>3</td>\n",
       "      <td>2.0</td>\n",
       "      <td>2002</td>\n",
       "      <td>99</td>\n",
       "      <td>HDB</td>\n",
       "      <td>['(369 m)']</td>\n",
       "      <td>1,184</td>\n",
       "      <td>558,888</td>\n",
       "    </tr>\n",
       "    <tr>\n",
       "      <th>4</th>\n",
       "      <td>4</td>\n",
       "      <td>HDB Flat for Sale in 225 Ang Mo Kio Avenue 1</td>\n",
       "      <td>['(D20)']</td>\n",
       "      <td>2</td>\n",
       "      <td>2.0</td>\n",
       "      <td>1978</td>\n",
       "      <td>NaN</td>\n",
       "      <td>HDB 3 Rooms</td>\n",
       "      <td>NaN</td>\n",
       "      <td>882</td>\n",
       "      <td>375,000</td>\n",
       "    </tr>\n",
       "  </tbody>\n",
       "</table>\n",
       "</div>"
      ],
      "text/plain": [
       "   Unnamed: 0                                         title address_code beds  \\\n",
       "0           0          HDB Flat for Sale in 110A Depot Road     ['(D4)']    3   \n",
       "1           1   HDB Flat for Sale in 208B Clementi Avenue 6     ['(D5)']    2   \n",
       "2           2    HDB Flat for Sale in 560 Hougang Street 51    ['(D19)']    4   \n",
       "3           3    HDB Flat for Sale in 322C Anchorvale Drive    ['(D19)']    3   \n",
       "4           4  HDB Flat for Sale in 225 Ang Mo Kio Avenue 1    ['(D20)']    2   \n",
       "\n",
       "   baths year_built tenure property_type mrt_distance   sqft    price  \n",
       "0    3.0        NaN     99           HDB          NaN    990  730,000  \n",
       "1    2.0        NaN    NaN   HDB 3 Rooms  ['(906 m)']    731  610,000  \n",
       "2    2.0       1999     99           HDB  ['(438 m)']  1,539  768,000  \n",
       "3    2.0       2002     99           HDB  ['(369 m)']  1,184  558,888  \n",
       "4    2.0       1978    NaN   HDB 3 Rooms          NaN    882  375,000  "
      ]
     },
     "execution_count": 93,
     "metadata": {},
     "output_type": "execute_result"
    }
   ],
   "source": [
    "data_list = []\n",
    "c=1\n",
    "for i in range(17):\n",
    "    data_list.append(pd.read_csv('scraped_pg{}_pg{}.csv'.format(c,c+9)))\n",
    "    c+=10\n",
    "data = pd.concat(data_list)\n",
    "data.head()"
   ]
  },
  {
   "cell_type": "code",
   "execution_count": 94,
   "metadata": {
    "scrolled": true
   },
   "outputs": [
    {
     "data": {
      "text/html": [
       "<div>\n",
       "<style scoped>\n",
       "    .dataframe tbody tr th:only-of-type {\n",
       "        vertical-align: middle;\n",
       "    }\n",
       "\n",
       "    .dataframe tbody tr th {\n",
       "        vertical-align: top;\n",
       "    }\n",
       "\n",
       "    .dataframe thead th {\n",
       "        text-align: right;\n",
       "    }\n",
       "</style>\n",
       "<table border=\"1\" class=\"dataframe\">\n",
       "  <thead>\n",
       "    <tr style=\"text-align: right;\">\n",
       "      <th></th>\n",
       "      <th>Unnamed: 0</th>\n",
       "      <th>title</th>\n",
       "      <th>address_code</th>\n",
       "      <th>beds</th>\n",
       "      <th>baths</th>\n",
       "      <th>year_built</th>\n",
       "      <th>tenure</th>\n",
       "      <th>property_type</th>\n",
       "      <th>mrt_distance</th>\n",
       "      <th>sqft</th>\n",
       "      <th>price</th>\n",
       "    </tr>\n",
       "  </thead>\n",
       "  <tbody>\n",
       "    <tr>\n",
       "      <th>0</th>\n",
       "      <td>0</td>\n",
       "      <td>HDB Flat for Sale in 110A Depot Road</td>\n",
       "      <td>['(D4)']</td>\n",
       "      <td>3</td>\n",
       "      <td>3.0</td>\n",
       "      <td>NaN</td>\n",
       "      <td>99</td>\n",
       "      <td>HDB</td>\n",
       "      <td>NaN</td>\n",
       "      <td>990</td>\n",
       "      <td>730,000</td>\n",
       "    </tr>\n",
       "    <tr>\n",
       "      <th>1</th>\n",
       "      <td>1</td>\n",
       "      <td>HDB Flat for Sale in 208B Clementi Avenue 6</td>\n",
       "      <td>['(D5)']</td>\n",
       "      <td>2</td>\n",
       "      <td>2.0</td>\n",
       "      <td>NaN</td>\n",
       "      <td>NaN</td>\n",
       "      <td>HDB 3 Rooms</td>\n",
       "      <td>['(906 m)']</td>\n",
       "      <td>731</td>\n",
       "      <td>610,000</td>\n",
       "    </tr>\n",
       "    <tr>\n",
       "      <th>2</th>\n",
       "      <td>2</td>\n",
       "      <td>HDB Flat for Sale in 560 Hougang Street 51</td>\n",
       "      <td>['(D19)']</td>\n",
       "      <td>4</td>\n",
       "      <td>2.0</td>\n",
       "      <td>1999</td>\n",
       "      <td>99</td>\n",
       "      <td>HDB</td>\n",
       "      <td>['(438 m)']</td>\n",
       "      <td>1,539</td>\n",
       "      <td>768,000</td>\n",
       "    </tr>\n",
       "    <tr>\n",
       "      <th>3</th>\n",
       "      <td>3</td>\n",
       "      <td>HDB Flat for Sale in 322C Anchorvale Drive</td>\n",
       "      <td>['(D19)']</td>\n",
       "      <td>3</td>\n",
       "      <td>2.0</td>\n",
       "      <td>2002</td>\n",
       "      <td>99</td>\n",
       "      <td>HDB</td>\n",
       "      <td>['(369 m)']</td>\n",
       "      <td>1,184</td>\n",
       "      <td>558,888</td>\n",
       "    </tr>\n",
       "    <tr>\n",
       "      <th>4</th>\n",
       "      <td>4</td>\n",
       "      <td>HDB Flat for Sale in 225 Ang Mo Kio Avenue 1</td>\n",
       "      <td>['(D20)']</td>\n",
       "      <td>2</td>\n",
       "      <td>2.0</td>\n",
       "      <td>1978</td>\n",
       "      <td>NaN</td>\n",
       "      <td>HDB 3 Rooms</td>\n",
       "      <td>NaN</td>\n",
       "      <td>882</td>\n",
       "      <td>375,000</td>\n",
       "    </tr>\n",
       "    <tr>\n",
       "      <th>...</th>\n",
       "      <td>...</td>\n",
       "      <td>...</td>\n",
       "      <td>...</td>\n",
       "      <td>...</td>\n",
       "      <td>...</td>\n",
       "      <td>...</td>\n",
       "      <td>...</td>\n",
       "      <td>...</td>\n",
       "      <td>...</td>\n",
       "      <td>...</td>\n",
       "      <td>...</td>\n",
       "    </tr>\n",
       "    <tr>\n",
       "      <th>975</th>\n",
       "      <td>975</td>\n",
       "      <td>2 Bed Condo for Sale in Whitehaven</td>\n",
       "      <td>['(D5)']</td>\n",
       "      <td>2</td>\n",
       "      <td>2.0</td>\n",
       "      <td>2017</td>\n",
       "      <td>Freehold</td>\n",
       "      <td>Apartment</td>\n",
       "      <td>['(2460 m)']</td>\n",
       "      <td>538</td>\n",
       "      <td>960,000</td>\n",
       "    </tr>\n",
       "    <tr>\n",
       "      <th>976</th>\n",
       "      <td>976</td>\n",
       "      <td>3 Bed House for Sale in Sennett Estate</td>\n",
       "      <td>['(D13)']</td>\n",
       "      <td>3</td>\n",
       "      <td>2.0</td>\n",
       "      <td>NaN</td>\n",
       "      <td>Freehold</td>\n",
       "      <td>Corner Terrace</td>\n",
       "      <td>['(548 m)']</td>\n",
       "      <td>3,179</td>\n",
       "      <td>4,500,000</td>\n",
       "    </tr>\n",
       "    <tr>\n",
       "      <th>977</th>\n",
       "      <td>977</td>\n",
       "      <td>3 Bed EC for Sale in Citylife @ Tampines</td>\n",
       "      <td>['(D18)']</td>\n",
       "      <td>3</td>\n",
       "      <td>3.0</td>\n",
       "      <td>2016</td>\n",
       "      <td>99</td>\n",
       "      <td>Executive Condo</td>\n",
       "      <td>['(1128 m)']</td>\n",
       "      <td>1,216</td>\n",
       "      <td>1,350,000</td>\n",
       "    </tr>\n",
       "    <tr>\n",
       "      <th>978</th>\n",
       "      <td>978</td>\n",
       "      <td>5 Bed Condo for Sale in Hillion Residences</td>\n",
       "      <td>['(D23)']</td>\n",
       "      <td>5</td>\n",
       "      <td>3.0</td>\n",
       "      <td>2018</td>\n",
       "      <td>99</td>\n",
       "      <td>Condo</td>\n",
       "      <td>['(58 m)']</td>\n",
       "      <td>2,616</td>\n",
       "      <td>3,029,000</td>\n",
       "    </tr>\n",
       "    <tr>\n",
       "      <th>979</th>\n",
       "      <td>979</td>\n",
       "      <td>5 Bed Condo for Sale in Affinity At Serangoon</td>\n",
       "      <td>['(D19)']</td>\n",
       "      <td>5</td>\n",
       "      <td>5.0</td>\n",
       "      <td>2024</td>\n",
       "      <td>99</td>\n",
       "      <td>Condo</td>\n",
       "      <td>NaN</td>\n",
       "      <td>2,303</td>\n",
       "      <td>2,613,000</td>\n",
       "    </tr>\n",
       "  </tbody>\n",
       "</table>\n",
       "<p>7980 rows × 11 columns</p>\n",
       "</div>"
      ],
      "text/plain": [
       "     Unnamed: 0                                          title address_code  \\\n",
       "0             0           HDB Flat for Sale in 110A Depot Road     ['(D4)']   \n",
       "1             1    HDB Flat for Sale in 208B Clementi Avenue 6     ['(D5)']   \n",
       "2             2     HDB Flat for Sale in 560 Hougang Street 51    ['(D19)']   \n",
       "3             3     HDB Flat for Sale in 322C Anchorvale Drive    ['(D19)']   \n",
       "4             4   HDB Flat for Sale in 225 Ang Mo Kio Avenue 1    ['(D20)']   \n",
       "..          ...                                            ...          ...   \n",
       "975         975             2 Bed Condo for Sale in Whitehaven     ['(D5)']   \n",
       "976         976         3 Bed House for Sale in Sennett Estate    ['(D13)']   \n",
       "977         977       3 Bed EC for Sale in Citylife @ Tampines    ['(D18)']   \n",
       "978         978     5 Bed Condo for Sale in Hillion Residences    ['(D23)']   \n",
       "979         979  5 Bed Condo for Sale in Affinity At Serangoon    ['(D19)']   \n",
       "\n",
       "    beds  baths year_built    tenure    property_type  mrt_distance   sqft  \\\n",
       "0      3    3.0        NaN        99              HDB           NaN    990   \n",
       "1      2    2.0        NaN       NaN      HDB 3 Rooms   ['(906 m)']    731   \n",
       "2      4    2.0       1999        99              HDB   ['(438 m)']  1,539   \n",
       "3      3    2.0       2002        99              HDB   ['(369 m)']  1,184   \n",
       "4      2    2.0       1978       NaN      HDB 3 Rooms           NaN    882   \n",
       "..   ...    ...        ...       ...              ...           ...    ...   \n",
       "975    2    2.0       2017  Freehold        Apartment  ['(2460 m)']    538   \n",
       "976    3    2.0        NaN  Freehold   Corner Terrace   ['(548 m)']  3,179   \n",
       "977    3    3.0       2016        99  Executive Condo  ['(1128 m)']  1,216   \n",
       "978    5    3.0       2018        99            Condo    ['(58 m)']  2,616   \n",
       "979    5    5.0       2024        99            Condo           NaN  2,303   \n",
       "\n",
       "         price  \n",
       "0      730,000  \n",
       "1      610,000  \n",
       "2      768,000  \n",
       "3      558,888  \n",
       "4      375,000  \n",
       "..         ...  \n",
       "975    960,000  \n",
       "976  4,500,000  \n",
       "977  1,350,000  \n",
       "978  3,029,000  \n",
       "979  2,613,000  \n",
       "\n",
       "[7980 rows x 11 columns]"
      ]
     },
     "execution_count": 94,
     "metadata": {},
     "output_type": "execute_result"
    }
   ],
   "source": [
    "data1 = pd.read_csv('scraped_pg171_pg200.csv')\n",
    "data2 = pd.read_csv('scraped_pg201_pg228.csv')\n",
    "data_final = pd.concat([data,data1,data2])\n",
    "data_final"
   ]
  },
  {
   "cell_type": "code",
   "execution_count": 95,
   "metadata": {},
   "outputs": [],
   "source": [
    "data_final.drop('Unnamed: 0',axis=1,inplace=True)"
   ]
  },
  {
   "cell_type": "code",
   "execution_count": 96,
   "metadata": {
    "scrolled": true
   },
   "outputs": [
    {
     "name": "stdout",
     "output_type": "stream",
     "text": [
      "<class 'pandas.core.frame.DataFrame'>\n",
      "Int64Index: 7980 entries, 0 to 979\n",
      "Data columns (total 10 columns):\n",
      " #   Column         Non-Null Count  Dtype  \n",
      "---  ------         --------------  -----  \n",
      " 0   title          7980 non-null   object \n",
      " 1   address_code   7980 non-null   object \n",
      " 2   beds           7974 non-null   object \n",
      " 3   baths          7414 non-null   float64\n",
      " 4   year_built     7385 non-null   object \n",
      " 5   tenure         7475 non-null   object \n",
      " 6   property_type  7751 non-null   object \n",
      " 7   mrt_distance   6027 non-null   object \n",
      " 8   sqft           7980 non-null   object \n",
      " 9   price          7980 non-null   object \n",
      "dtypes: float64(1), object(9)\n",
      "memory usage: 685.8+ KB\n"
     ]
    }
   ],
   "source": [
    "data_final.info()"
   ]
  },
  {
   "cell_type": "code",
   "execution_count": 97,
   "metadata": {},
   "outputs": [],
   "source": [
    "data_final.to_csv('compiled_data.csv')"
   ]
  },
  {
   "cell_type": "code",
   "execution_count": 186,
   "metadata": {},
   "outputs": [],
   "source": [
    "data_final = pd.read_csv('compiled_data.csv',index_col=0)"
   ]
  },
  {
   "cell_type": "code",
   "execution_count": 135,
   "metadata": {
    "scrolled": true
   },
   "outputs": [
    {
     "data": {
      "text/plain": [
       "<AxesSubplot:>"
      ]
     },
     "execution_count": 135,
     "metadata": {},
     "output_type": "execute_result"
    },
    {
     "data": {
      "image/png": "[encoded data removed]",
      "text/plain": [
       "<Figure size 864x432 with 3 Axes>"
      ]
     },
     "metadata": {
      "needs_background": "light"
     },
     "output_type": "display_data"
    }
   ],
   "source": [
    "msno.bar(data_final, figsize=(12,6),color='steelblue')"
   ]
  },
  {
   "cell_type": "code",
   "execution_count": 187,
   "metadata": {},
   "outputs": [],
   "source": [
    "data_final=data_final.drop_duplicates()"
   ]
  },
  {
   "cell_type": "code",
   "execution_count": 137,
   "metadata": {},
   "outputs": [
    {
     "name": "stdout",
     "output_type": "stream",
     "text": [
      "<class 'pandas.core.frame.DataFrame'>\n",
      "Int64Index: 6130 entries, 0 to 979\n",
      "Data columns (total 10 columns):\n",
      " #   Column         Non-Null Count  Dtype  \n",
      "---  ------         --------------  -----  \n",
      " 0   title          6130 non-null   object \n",
      " 1   address_code   6130 non-null   object \n",
      " 2   beds           6124 non-null   object \n",
      " 3   baths          5660 non-null   float64\n",
      " 4   year_built     5715 non-null   object \n",
      " 5   tenure         5732 non-null   object \n",
      " 6   property_type  5961 non-null   object \n",
      " 7   mrt_distance   4652 non-null   object \n",
      " 8   sqft           6130 non-null   object \n",
      " 9   price          6130 non-null   object \n",
      "dtypes: float64(1), object(9)\n",
      "memory usage: 526.8+ KB\n"
     ]
    }
   ],
   "source": [
    "data_final.info()"
   ]
  },
  {
   "cell_type": "code",
   "execution_count": 138,
   "metadata": {
    "scrolled": true
   },
   "outputs": [
    {
     "data": {
      "text/plain": [
       "['(D19)']    805\n",
       "['(D10)']    495\n",
       "['(D15)']    441\n",
       "['(D18)']    393\n",
       "['(D5)']     388\n",
       "['(D9)']     388\n",
       "['(D3)']     354\n",
       "['(D14)']    280\n",
       "['(D23)']    252\n",
       "['(D4)']     236\n",
       "['(D16)']    194\n",
       "['(D11)']    186\n",
       "['(D12)']    169\n",
       "['(D27)']    168\n",
       "['(D2)']     159\n",
       "['(D28)']    155\n",
       "['(D1)']     153\n",
       "['(D21)']    144\n",
       "['(D13)']    142\n",
       "['(D20)']    135\n",
       "['(D22)']    109\n",
       "['(D7)']     108\n",
       "['(D17)']     94\n",
       "['(D8)']      89\n",
       "['(D25)']     68\n",
       "['(D26)']     23\n",
       "['(D6)']       2\n",
       "Name: address_code, dtype: int64"
      ]
     },
     "execution_count": 138,
     "metadata": {},
     "output_type": "execute_result"
    }
   ],
   "source": [
    "data_final['address_code'].value_counts()"
   ]
  },
  {
   "cell_type": "code",
   "execution_count": 188,
   "metadata": {
    "scrolled": true
   },
   "outputs": [],
   "source": [
    "data_final['address_code']=data_final['address_code'].apply(lambda x: re.findall('D\\d+',x)[0])"
   ]
  },
  {
   "cell_type": "code",
   "execution_count": 145,
   "metadata": {
    "scrolled": false
   },
   "outputs": [
    {
     "data": {
      "text/plain": [
       "D19    805\n",
       "D10    495\n",
       "D15    441\n",
       "D18    393\n",
       "D5     388\n",
       "D9     388\n",
       "D3     354\n",
       "D14    280\n",
       "D23    252\n",
       "D4     236\n",
       "D16    194\n",
       "D11    186\n",
       "D12    169\n",
       "D27    168\n",
       "D2     159\n",
       "D28    155\n",
       "D1     153\n",
       "D21    144\n",
       "D13    142\n",
       "D20    135\n",
       "D22    109\n",
       "D7     108\n",
       "D17     94\n",
       "D8      89\n",
       "D25     68\n",
       "D26     23\n",
       "D6       2\n",
       "Name: address_code, dtype: int64"
      ]
     },
     "execution_count": 145,
     "metadata": {},
     "output_type": "execute_result"
    }
   ],
   "source": [
    "data_final['address_code'].value_counts()"
   ]
  },
  {
   "cell_type": "code",
   "execution_count": 161,
   "metadata": {
    "scrolled": true
   },
   "outputs": [
    {
     "data": {
      "text/plain": [
       "3     2119\n",
       "2     1653\n",
       "1      905\n",
       "4      867\n",
       "5      360\n",
       "6       98\n",
       "0       78\n",
       "7       23\n",
       "9        9\n",
       "8        7\n",
       "10       5\n",
       "Name: beds, dtype: int64"
      ]
     },
     "execution_count": 161,
     "metadata": {},
     "output_type": "execute_result"
    }
   ],
   "source": [
    "data_final['beds'].value_counts()"
   ]
  },
  {
   "cell_type": "code",
   "execution_count": 189,
   "metadata": {},
   "outputs": [],
   "source": [
    "data_final.dropna(subset=['beds'],inplace=True)"
   ]
  },
  {
   "cell_type": "code",
   "execution_count": 190,
   "metadata": {},
   "outputs": [
    {
     "name": "stdout",
     "output_type": "stream",
     "text": [
      "<class 'pandas.core.frame.DataFrame'>\n",
      "Int64Index: 6124 entries, 0 to 979\n",
      "Data columns (total 10 columns):\n",
      " #   Column         Non-Null Count  Dtype  \n",
      "---  ------         --------------  -----  \n",
      " 0   title          6124 non-null   object \n",
      " 1   address_code   6124 non-null   object \n",
      " 2   beds           6124 non-null   object \n",
      " 3   baths          5654 non-null   float64\n",
      " 4   year_built     5709 non-null   object \n",
      " 5   tenure         5726 non-null   object \n",
      " 6   property_type  5955 non-null   object \n",
      " 7   mrt_distance   4646 non-null   object \n",
      " 8   sqft           6124 non-null   object \n",
      " 9   price          6124 non-null   object \n",
      "dtypes: float64(1), object(9)\n",
      "memory usage: 526.3+ KB\n"
     ]
    }
   ],
   "source": [
    "data_final.info()"
   ]
  },
  {
   "cell_type": "markdown",
   "metadata": {},
   "source": [
    "The defining difference between a studio and 1-bedroom apartment is that a 1-bedroom features a separate bedroom area that is distinct and closed off from the living room and kitchen area. The column beds represents the bedrooms on the website, since studio isn't a separate bedroom, I will change all labelled 'studio' to 0."
   ]
  },
  {
   "cell_type": "code",
   "execution_count": 191,
   "metadata": {},
   "outputs": [],
   "source": [
    "\n",
    "data_final['beds']=data_final['beds'].apply(lambda x:0 if x=='Studio' else int(x))"
   ]
  },
  {
   "cell_type": "code",
   "execution_count": 178,
   "metadata": {
    "scrolled": true
   },
   "outputs": [
    {
     "data": {
      "text/plain": [
       "3     2119\n",
       "2     1653\n",
       "1      905\n",
       "4      867\n",
       "5      360\n",
       "6       98\n",
       "0       78\n",
       "7       23\n",
       "9        9\n",
       "8        7\n",
       "10       5\n",
       "Name: beds, dtype: int64"
      ]
     },
     "execution_count": 178,
     "metadata": {},
     "output_type": "execute_result"
    }
   ],
   "source": [
    "data_final['beds'].value_counts()"
   ]
  },
  {
   "cell_type": "code",
   "execution_count": 202,
   "metadata": {},
   "outputs": [],
   "source": [
    "data_final['baths']=data_final['baths'].apply(lambda x:0 if math.isnan(x) else int(x))"
   ]
  },
  {
   "cell_type": "code",
   "execution_count": 205,
   "metadata": {},
   "outputs": [
    {
     "data": {
      "text/plain": [
       "0      3\n",
       "1      2\n",
       "2      2\n",
       "3      2\n",
       "4      2\n",
       "      ..\n",
       "975    2\n",
       "976    2\n",
       "977    3\n",
       "978    3\n",
       "979    5\n",
       "Name: baths, Length: 6124, dtype: int64"
      ]
     },
     "execution_count": 205,
     "metadata": {},
     "output_type": "execute_result"
    }
   ],
   "source": [
    "data_final['baths']"
   ]
  },
  {
   "cell_type": "code",
   "execution_count": null,
   "metadata": {},
   "outputs": [],
   "source": []
  }
 ],
 "metadata": {
  "kernelspec": {
   "display_name": "Python 3",
   "language": "python",
   "name": "python3"
  },
  "language_info": {
   "codemirror_mode": {
    "name": "ipython",
    "version": 3
   },
   "file_extension": ".py",
   "mimetype": "text/x-python",
   "name": "python",
   "nbconvert_exporter": "python",
   "pygments_lexer": "ipython3",
   "version": "3.8.5"
  }
 },
 "nbformat": 4,
 "nbformat_minor": 4
}
