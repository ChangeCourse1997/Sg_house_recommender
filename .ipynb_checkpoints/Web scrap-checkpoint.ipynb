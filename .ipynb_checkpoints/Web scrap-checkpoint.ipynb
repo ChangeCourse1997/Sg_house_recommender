{
 "cells": [
  {
   "cell_type": "code",
   "execution_count": null,
   "metadata": {},
   "outputs": [],
   "source": [
    "https://www.99.co/singapore/sale?page_num=2"
   ]
  },
  {
   "cell_type": "code",
   "execution_count": 1,
   "metadata": {},
   "outputs": [],
   "source": [
    "from selenium import webdriver\n",
    "from selenium.webdriver.support.ui import WebDriverWait \n",
    "from selenium.webdriver.support import expected_conditions\n",
    "from bs4 import BeautifulSoup\n",
    "import re\n",
    "import pandas as pd\n",
    "import time"
   ]
  },
  {
   "cell_type": "code",
   "execution_count": null,
   "metadata": {},
   "outputs": [],
   "source": [
    "https://towardsdatascience.com/scraping-flight-data-using-python-e71b97e859d3\n",
    "    "
   ]
  },
  {
   "cell_type": "code",
   "execution_count": 82,
   "metadata": {
    "scrolled": true
   },
   "outputs": [],
   "source": [
    "def Scrape(start_page,end_page): #End page is not inclusive\n",
    "    housing = ['HDB','HDB 2 Rooms','HDB 3 Rooms','HDB 4 Rooms','HDB 5 Rooms','HDB Executive','Condo','Apartment','Walk-up','Landed','Executive Condo','Terraced House','Corner Terrace','Semi-Detached','Bungalow','Good Class Bungalow','Cluster House']\n",
    "    chrome_options = webdriver.ChromeOptions()\n",
    "    for num in range(start_page,end_page):\n",
    "        driver = webdriver.Chrome(\"chromedriver.exe\")\n",
    "        driver.implicitly_wait(5)\n",
    "        driver.get('https://www.99.co/singapore/sale?page_num={}'.format(num))\n",
    "        time.sleep(3)\n",
    "        links =[]\n",
    "\n",
    "        soup=BeautifulSoup(driver.page_source, 'lxml')\n",
    "        for link in soup.find_all('a'):\n",
    "            if type(link.get('href'))==str and 'Search' in link.get('href') and 'page_num'not in link.get('href'):\n",
    "\n",
    "                links.append('https://www.99.co'+link.get('href'))\n",
    "\n",
    "\n",
    "        for c,i in enumerate(links): \n",
    "\n",
    "            driver.get(i)\n",
    "            time.sleep(1.5)\n",
    "            soup=BeautifulSoup(driver.page_source, 'lxml')\n",
    "            name = soup.find('h1', attrs={'class': '_3Wogd JMF8h lFqTi _1vzK2'})\n",
    "            names.append(name.getText())\n",
    "\n",
    "\n",
    "            address = soup.find_all('p', attrs={'class': 'dniCg _3j72o _2rhE-'})\n",
    "            a = []\n",
    "            for i in address:\n",
    "                a.append(i.getText())\n",
    "            addresses.append(re.findall('(\\(D\\d\\d\\)|\\(D\\d\\))',''.join(a)))\n",
    "\n",
    "            bed = soup.find_all('p', attrs={'class': '_2sIc2 _29qfj _2rhE-'})\n",
    "            temp1 = ['NA','NA','NA']\n",
    "            for i in bed:\n",
    "                if 'Bed'in i.getText().split() or 'Beds' in i.getText().split():\n",
    "                    temp1[0]=i.getText().split()[0]\n",
    "\n",
    "                elif 'Bath' in i.getText().split() or 'Baths' in i.getText().split():\n",
    "                    temp1[1]=i.getText().split()[0]\n",
    "\n",
    "                elif 'sqft' in i.getText().split():\n",
    "                    temp1[2]=i.getText().split()[0]\n",
    "                elif 'Studio' in i.getText().split():\n",
    "                    temp1[0]=i.getText()            \n",
    "                else:\n",
    "                    print('Please maunually get info for page{} and link with index {}'.format(num,c))\n",
    "\n",
    "            beds.append(temp1[0])\n",
    "            baths.append(temp1[1])\n",
    "            sqft.append(temp1[2])\n",
    "\n",
    "\n",
    "            info = soup.find_all('div', attrs={'class': '_3r4yN XCAFU'})\n",
    "            temp = ['NA','NA','NA']\n",
    "\n",
    "            for i in info:\n",
    "                if 'year' in i.getText().lower():\n",
    "                    temp[0]=i.getText()[:2]\n",
    "                elif 'Freehold' in i.getText():\n",
    "                    temp[0]=i.getText()\n",
    "                elif re.findall('\\d\\d\\d\\d',i.getText())!=[]:\n",
    "                    temp[1]=i.getText()\n",
    "                elif i.getText() in housing:\n",
    "                    temp[2]=i.getText()   \n",
    "            tenure.append(temp[0])\n",
    "            year_built.append(temp[1])\n",
    "            property_type.append(temp[2])\n",
    "\n",
    "            mrts = soup.find_all('p', attrs={'class': '_2sIc2 _2rhE- _1c-pJ'})\n",
    "            temp2 = ['NA']\n",
    "            for i in mrts:\n",
    "                if re.findall('\\(\\d+ m\\)',''.join(i.getText()))!=[]:\n",
    "                        temp2[0]=re.findall('\\(\\d+ m\\)',''.join(i.getText()))\n",
    "            mrt.append(temp2[0])\n",
    "\n",
    "\n",
    "\n",
    "            prices = soup.find('h2', attrs={'class': '_1zGm8 _3na6W _1vzK2'})\n",
    "            price.append(prices.getText()[1:])\n",
    "\n",
    "        if len(names)==len(addresses) and len(addresses)==len(beds) and len(beds)==len(baths) and len(baths)==len(year_built) and len(year_built)==len(tenure) and len(tenure)==len(property_type) and len(property_type)==len(mrt) and len(mrt)==len(price):\n",
    "            print('All good for page number {}!'.format(num))\n",
    "        else:\n",
    "            print('shit, houston we have a problem!')\n",
    "            break\n",
    "        driver.close()\n"
   ]
  },
  {
   "cell_type": "code",
   "execution_count": 83,
   "metadata": {},
   "outputs": [
    {
     "ename": "KeyboardInterrupt",
     "evalue": "",
     "output_type": "error",
     "traceback": [
      "\u001b[1;31m---------------------------------------------------------------------------\u001b[0m",
      "\u001b[1;31mKeyboardInterrupt\u001b[0m                         Traceback (most recent call last)",
      "\u001b[1;32m<ipython-input-83-8231bae6659c>\u001b[0m in \u001b[0;36m<module>\u001b[1;34m\u001b[0m\n\u001b[0;32m      1\u001b[0m \u001b[0mnames\u001b[0m\u001b[1;33m,\u001b[0m\u001b[0maddresses\u001b[0m\u001b[1;33m,\u001b[0m\u001b[0mbeds\u001b[0m\u001b[1;33m,\u001b[0m\u001b[0mbaths\u001b[0m\u001b[1;33m,\u001b[0m\u001b[0myear_built\u001b[0m\u001b[1;33m,\u001b[0m\u001b[0mtenure\u001b[0m\u001b[1;33m,\u001b[0m\u001b[0mproperty_type\u001b[0m\u001b[1;33m,\u001b[0m\u001b[0mmrt\u001b[0m\u001b[1;33m,\u001b[0m\u001b[0mprice\u001b[0m\u001b[1;33m,\u001b[0m\u001b[0msqft\u001b[0m \u001b[1;33m=\u001b[0m \u001b[1;33m[\u001b[0m\u001b[1;33m]\u001b[0m\u001b[1;33m,\u001b[0m\u001b[1;33m[\u001b[0m\u001b[1;33m]\u001b[0m\u001b[1;33m,\u001b[0m\u001b[1;33m[\u001b[0m\u001b[1;33m]\u001b[0m\u001b[1;33m,\u001b[0m\u001b[1;33m[\u001b[0m\u001b[1;33m]\u001b[0m\u001b[1;33m,\u001b[0m\u001b[1;33m[\u001b[0m\u001b[1;33m]\u001b[0m\u001b[1;33m,\u001b[0m\u001b[1;33m[\u001b[0m\u001b[1;33m]\u001b[0m\u001b[1;33m,\u001b[0m\u001b[1;33m[\u001b[0m\u001b[1;33m]\u001b[0m\u001b[1;33m,\u001b[0m\u001b[1;33m[\u001b[0m\u001b[1;33m]\u001b[0m\u001b[1;33m,\u001b[0m\u001b[1;33m[\u001b[0m\u001b[1;33m]\u001b[0m\u001b[1;33m,\u001b[0m\u001b[1;33m[\u001b[0m\u001b[1;33m]\u001b[0m\u001b[1;33m\u001b[0m\u001b[1;33m\u001b[0m\u001b[0m\n\u001b[1;32m----> 2\u001b[1;33m \u001b[0mScrape\u001b[0m\u001b[1;33m(\u001b[0m\u001b[1;36m1\u001b[0m\u001b[1;33m,\u001b[0m\u001b[1;36m10\u001b[0m\u001b[1;33m)\u001b[0m\u001b[1;33m\u001b[0m\u001b[1;33m\u001b[0m\u001b[0m\n\u001b[0m",
      "\u001b[1;32m<ipython-input-82-4e07b3f30aa1>\u001b[0m in \u001b[0;36mScrape\u001b[1;34m(start_page, end_page)\u001b[0m\n\u001b[0;32m     21\u001b[0m             \u001b[0mdriver\u001b[0m\u001b[1;33m.\u001b[0m\u001b[0mget\u001b[0m\u001b[1;33m(\u001b[0m\u001b[0mi\u001b[0m\u001b[1;33m)\u001b[0m\u001b[1;33m\u001b[0m\u001b[1;33m\u001b[0m\u001b[0m\n\u001b[0;32m     22\u001b[0m             \u001b[0mtime\u001b[0m\u001b[1;33m.\u001b[0m\u001b[0msleep\u001b[0m\u001b[1;33m(\u001b[0m\u001b[1;36m1.5\u001b[0m\u001b[1;33m)\u001b[0m\u001b[1;33m\u001b[0m\u001b[1;33m\u001b[0m\u001b[0m\n\u001b[1;32m---> 23\u001b[1;33m             \u001b[0msoup\u001b[0m\u001b[1;33m=\u001b[0m\u001b[0mBeautifulSoup\u001b[0m\u001b[1;33m(\u001b[0m\u001b[0mdriver\u001b[0m\u001b[1;33m.\u001b[0m\u001b[0mpage_source\u001b[0m\u001b[1;33m,\u001b[0m \u001b[1;34m'lxml'\u001b[0m\u001b[1;33m)\u001b[0m\u001b[1;33m\u001b[0m\u001b[1;33m\u001b[0m\u001b[0m\n\u001b[0m\u001b[0;32m     24\u001b[0m             \u001b[0mname\u001b[0m \u001b[1;33m=\u001b[0m \u001b[0msoup\u001b[0m\u001b[1;33m.\u001b[0m\u001b[0mfind\u001b[0m\u001b[1;33m(\u001b[0m\u001b[1;34m'h1'\u001b[0m\u001b[1;33m,\u001b[0m \u001b[0mattrs\u001b[0m\u001b[1;33m=\u001b[0m\u001b[1;33m{\u001b[0m\u001b[1;34m'class'\u001b[0m\u001b[1;33m:\u001b[0m \u001b[1;34m'_3Wogd JMF8h lFqTi _1vzK2'\u001b[0m\u001b[1;33m}\u001b[0m\u001b[1;33m)\u001b[0m\u001b[1;33m\u001b[0m\u001b[1;33m\u001b[0m\u001b[0m\n\u001b[0;32m     25\u001b[0m             \u001b[0mnames\u001b[0m\u001b[1;33m.\u001b[0m\u001b[0mappend\u001b[0m\u001b[1;33m(\u001b[0m\u001b[0mname\u001b[0m\u001b[1;33m.\u001b[0m\u001b[0mgetText\u001b[0m\u001b[1;33m(\u001b[0m\u001b[1;33m)\u001b[0m\u001b[1;33m)\u001b[0m\u001b[1;33m\u001b[0m\u001b[1;33m\u001b[0m\u001b[0m\n",
      "\u001b[1;32m~\\anaconda3\\lib\\site-packages\\selenium\\webdriver\\remote\\webdriver.py\u001b[0m in \u001b[0;36mpage_source\u001b[1;34m(self)\u001b[0m\n\u001b[0;32m    677\u001b[0m             \u001b[0mdriver\u001b[0m\u001b[1;33m.\u001b[0m\u001b[0mpage_source\u001b[0m\u001b[1;33m\u001b[0m\u001b[1;33m\u001b[0m\u001b[0m\n\u001b[0;32m    678\u001b[0m         \"\"\"\n\u001b[1;32m--> 679\u001b[1;33m         \u001b[1;32mreturn\u001b[0m \u001b[0mself\u001b[0m\u001b[1;33m.\u001b[0m\u001b[0mexecute\u001b[0m\u001b[1;33m(\u001b[0m\u001b[0mCommand\u001b[0m\u001b[1;33m.\u001b[0m\u001b[0mGET_PAGE_SOURCE\u001b[0m\u001b[1;33m)\u001b[0m\u001b[1;33m[\u001b[0m\u001b[1;34m'value'\u001b[0m\u001b[1;33m]\u001b[0m\u001b[1;33m\u001b[0m\u001b[1;33m\u001b[0m\u001b[0m\n\u001b[0m\u001b[0;32m    680\u001b[0m \u001b[1;33m\u001b[0m\u001b[0m\n\u001b[0;32m    681\u001b[0m     \u001b[1;32mdef\u001b[0m \u001b[0mclose\u001b[0m\u001b[1;33m(\u001b[0m\u001b[0mself\u001b[0m\u001b[1;33m)\u001b[0m\u001b[1;33m:\u001b[0m\u001b[1;33m\u001b[0m\u001b[1;33m\u001b[0m\u001b[0m\n",
      "\u001b[1;32m~\\anaconda3\\lib\\site-packages\\selenium\\webdriver\\remote\\webdriver.py\u001b[0m in \u001b[0;36mexecute\u001b[1;34m(self, driver_command, params)\u001b[0m\n\u001b[0;32m    317\u001b[0m \u001b[1;33m\u001b[0m\u001b[0m\n\u001b[0;32m    318\u001b[0m         \u001b[0mparams\u001b[0m \u001b[1;33m=\u001b[0m \u001b[0mself\u001b[0m\u001b[1;33m.\u001b[0m\u001b[0m_wrap_value\u001b[0m\u001b[1;33m(\u001b[0m\u001b[0mparams\u001b[0m\u001b[1;33m)\u001b[0m\u001b[1;33m\u001b[0m\u001b[1;33m\u001b[0m\u001b[0m\n\u001b[1;32m--> 319\u001b[1;33m         \u001b[0mresponse\u001b[0m \u001b[1;33m=\u001b[0m \u001b[0mself\u001b[0m\u001b[1;33m.\u001b[0m\u001b[0mcommand_executor\u001b[0m\u001b[1;33m.\u001b[0m\u001b[0mexecute\u001b[0m\u001b[1;33m(\u001b[0m\u001b[0mdriver_command\u001b[0m\u001b[1;33m,\u001b[0m \u001b[0mparams\u001b[0m\u001b[1;33m)\u001b[0m\u001b[1;33m\u001b[0m\u001b[1;33m\u001b[0m\u001b[0m\n\u001b[0m\u001b[0;32m    320\u001b[0m         \u001b[1;32mif\u001b[0m \u001b[0mresponse\u001b[0m\u001b[1;33m:\u001b[0m\u001b[1;33m\u001b[0m\u001b[1;33m\u001b[0m\u001b[0m\n\u001b[0;32m    321\u001b[0m             \u001b[0mself\u001b[0m\u001b[1;33m.\u001b[0m\u001b[0merror_handler\u001b[0m\u001b[1;33m.\u001b[0m\u001b[0mcheck_response\u001b[0m\u001b[1;33m(\u001b[0m\u001b[0mresponse\u001b[0m\u001b[1;33m)\u001b[0m\u001b[1;33m\u001b[0m\u001b[1;33m\u001b[0m\u001b[0m\n",
      "\u001b[1;32m~\\anaconda3\\lib\\site-packages\\selenium\\webdriver\\remote\\remote_connection.py\u001b[0m in \u001b[0;36mexecute\u001b[1;34m(self, command, params)\u001b[0m\n\u001b[0;32m    372\u001b[0m         \u001b[0mdata\u001b[0m \u001b[1;33m=\u001b[0m \u001b[0mutils\u001b[0m\u001b[1;33m.\u001b[0m\u001b[0mdump_json\u001b[0m\u001b[1;33m(\u001b[0m\u001b[0mparams\u001b[0m\u001b[1;33m)\u001b[0m\u001b[1;33m\u001b[0m\u001b[1;33m\u001b[0m\u001b[0m\n\u001b[0;32m    373\u001b[0m         \u001b[0murl\u001b[0m \u001b[1;33m=\u001b[0m \u001b[1;34m'%s%s'\u001b[0m \u001b[1;33m%\u001b[0m \u001b[1;33m(\u001b[0m\u001b[0mself\u001b[0m\u001b[1;33m.\u001b[0m\u001b[0m_url\u001b[0m\u001b[1;33m,\u001b[0m \u001b[0mpath\u001b[0m\u001b[1;33m)\u001b[0m\u001b[1;33m\u001b[0m\u001b[1;33m\u001b[0m\u001b[0m\n\u001b[1;32m--> 374\u001b[1;33m         \u001b[1;32mreturn\u001b[0m \u001b[0mself\u001b[0m\u001b[1;33m.\u001b[0m\u001b[0m_request\u001b[0m\u001b[1;33m(\u001b[0m\u001b[0mcommand_info\u001b[0m\u001b[1;33m[\u001b[0m\u001b[1;36m0\u001b[0m\u001b[1;33m]\u001b[0m\u001b[1;33m,\u001b[0m \u001b[0murl\u001b[0m\u001b[1;33m,\u001b[0m \u001b[0mbody\u001b[0m\u001b[1;33m=\u001b[0m\u001b[0mdata\u001b[0m\u001b[1;33m)\u001b[0m\u001b[1;33m\u001b[0m\u001b[1;33m\u001b[0m\u001b[0m\n\u001b[0m\u001b[0;32m    375\u001b[0m \u001b[1;33m\u001b[0m\u001b[0m\n\u001b[0;32m    376\u001b[0m     \u001b[1;32mdef\u001b[0m \u001b[0m_request\u001b[0m\u001b[1;33m(\u001b[0m\u001b[0mself\u001b[0m\u001b[1;33m,\u001b[0m \u001b[0mmethod\u001b[0m\u001b[1;33m,\u001b[0m \u001b[0murl\u001b[0m\u001b[1;33m,\u001b[0m \u001b[0mbody\u001b[0m\u001b[1;33m=\u001b[0m\u001b[1;32mNone\u001b[0m\u001b[1;33m)\u001b[0m\u001b[1;33m:\u001b[0m\u001b[1;33m\u001b[0m\u001b[1;33m\u001b[0m\u001b[0m\n",
      "\u001b[1;32m~\\anaconda3\\lib\\site-packages\\selenium\\webdriver\\remote\\remote_connection.py\u001b[0m in \u001b[0;36m_request\u001b[1;34m(self, method, url, body)\u001b[0m\n\u001b[0;32m    395\u001b[0m \u001b[1;33m\u001b[0m\u001b[0m\n\u001b[0;32m    396\u001b[0m         \u001b[1;32mif\u001b[0m \u001b[0mself\u001b[0m\u001b[1;33m.\u001b[0m\u001b[0mkeep_alive\u001b[0m\u001b[1;33m:\u001b[0m\u001b[1;33m\u001b[0m\u001b[1;33m\u001b[0m\u001b[0m\n\u001b[1;32m--> 397\u001b[1;33m             \u001b[0mresp\u001b[0m \u001b[1;33m=\u001b[0m \u001b[0mself\u001b[0m\u001b[1;33m.\u001b[0m\u001b[0m_conn\u001b[0m\u001b[1;33m.\u001b[0m\u001b[0mrequest\u001b[0m\u001b[1;33m(\u001b[0m\u001b[0mmethod\u001b[0m\u001b[1;33m,\u001b[0m \u001b[0murl\u001b[0m\u001b[1;33m,\u001b[0m \u001b[0mbody\u001b[0m\u001b[1;33m=\u001b[0m\u001b[0mbody\u001b[0m\u001b[1;33m,\u001b[0m \u001b[0mheaders\u001b[0m\u001b[1;33m=\u001b[0m\u001b[0mheaders\u001b[0m\u001b[1;33m)\u001b[0m\u001b[1;33m\u001b[0m\u001b[1;33m\u001b[0m\u001b[0m\n\u001b[0m\u001b[0;32m    398\u001b[0m \u001b[1;33m\u001b[0m\u001b[0m\n\u001b[0;32m    399\u001b[0m             \u001b[0mstatuscode\u001b[0m \u001b[1;33m=\u001b[0m \u001b[0mresp\u001b[0m\u001b[1;33m.\u001b[0m\u001b[0mstatus\u001b[0m\u001b[1;33m\u001b[0m\u001b[1;33m\u001b[0m\u001b[0m\n",
      "\u001b[1;32m~\\anaconda3\\lib\\site-packages\\urllib3\\request.py\u001b[0m in \u001b[0;36mrequest\u001b[1;34m(self, method, url, fields, headers, **urlopen_kw)\u001b[0m\n\u001b[0;32m     73\u001b[0m \u001b[1;33m\u001b[0m\u001b[0m\n\u001b[0;32m     74\u001b[0m         \u001b[1;32mif\u001b[0m \u001b[0mmethod\u001b[0m \u001b[1;32min\u001b[0m \u001b[0mself\u001b[0m\u001b[1;33m.\u001b[0m\u001b[0m_encode_url_methods\u001b[0m\u001b[1;33m:\u001b[0m\u001b[1;33m\u001b[0m\u001b[1;33m\u001b[0m\u001b[0m\n\u001b[1;32m---> 75\u001b[1;33m             return self.request_encode_url(\n\u001b[0m\u001b[0;32m     76\u001b[0m                 \u001b[0mmethod\u001b[0m\u001b[1;33m,\u001b[0m \u001b[0murl\u001b[0m\u001b[1;33m,\u001b[0m \u001b[0mfields\u001b[0m\u001b[1;33m=\u001b[0m\u001b[0mfields\u001b[0m\u001b[1;33m,\u001b[0m \u001b[0mheaders\u001b[0m\u001b[1;33m=\u001b[0m\u001b[0mheaders\u001b[0m\u001b[1;33m,\u001b[0m \u001b[1;33m**\u001b[0m\u001b[0murlopen_kw\u001b[0m\u001b[1;33m\u001b[0m\u001b[1;33m\u001b[0m\u001b[0m\n\u001b[0;32m     77\u001b[0m             )\n",
      "\u001b[1;32m~\\anaconda3\\lib\\site-packages\\urllib3\\request.py\u001b[0m in \u001b[0;36mrequest_encode_url\u001b[1;34m(self, method, url, fields, headers, **urlopen_kw)\u001b[0m\n\u001b[0;32m     95\u001b[0m             \u001b[0murl\u001b[0m \u001b[1;33m+=\u001b[0m \u001b[1;34m\"?\"\u001b[0m \u001b[1;33m+\u001b[0m \u001b[0murlencode\u001b[0m\u001b[1;33m(\u001b[0m\u001b[0mfields\u001b[0m\u001b[1;33m)\u001b[0m\u001b[1;33m\u001b[0m\u001b[1;33m\u001b[0m\u001b[0m\n\u001b[0;32m     96\u001b[0m \u001b[1;33m\u001b[0m\u001b[0m\n\u001b[1;32m---> 97\u001b[1;33m         \u001b[1;32mreturn\u001b[0m \u001b[0mself\u001b[0m\u001b[1;33m.\u001b[0m\u001b[0murlopen\u001b[0m\u001b[1;33m(\u001b[0m\u001b[0mmethod\u001b[0m\u001b[1;33m,\u001b[0m \u001b[0murl\u001b[0m\u001b[1;33m,\u001b[0m \u001b[1;33m**\u001b[0m\u001b[0mextra_kw\u001b[0m\u001b[1;33m)\u001b[0m\u001b[1;33m\u001b[0m\u001b[1;33m\u001b[0m\u001b[0m\n\u001b[0m\u001b[0;32m     98\u001b[0m \u001b[1;33m\u001b[0m\u001b[0m\n\u001b[0;32m     99\u001b[0m     def request_encode_body(\n",
      "\u001b[1;32m~\\anaconda3\\lib\\site-packages\\urllib3\\poolmanager.py\u001b[0m in \u001b[0;36murlopen\u001b[1;34m(self, method, url, redirect, **kw)\u001b[0m\n\u001b[0;32m    334\u001b[0m             \u001b[0mresponse\u001b[0m \u001b[1;33m=\u001b[0m \u001b[0mconn\u001b[0m\u001b[1;33m.\u001b[0m\u001b[0murlopen\u001b[0m\u001b[1;33m(\u001b[0m\u001b[0mmethod\u001b[0m\u001b[1;33m,\u001b[0m \u001b[0murl\u001b[0m\u001b[1;33m,\u001b[0m \u001b[1;33m**\u001b[0m\u001b[0mkw\u001b[0m\u001b[1;33m)\u001b[0m\u001b[1;33m\u001b[0m\u001b[1;33m\u001b[0m\u001b[0m\n\u001b[0;32m    335\u001b[0m         \u001b[1;32melse\u001b[0m\u001b[1;33m:\u001b[0m\u001b[1;33m\u001b[0m\u001b[1;33m\u001b[0m\u001b[0m\n\u001b[1;32m--> 336\u001b[1;33m             \u001b[0mresponse\u001b[0m \u001b[1;33m=\u001b[0m \u001b[0mconn\u001b[0m\u001b[1;33m.\u001b[0m\u001b[0murlopen\u001b[0m\u001b[1;33m(\u001b[0m\u001b[0mmethod\u001b[0m\u001b[1;33m,\u001b[0m \u001b[0mu\u001b[0m\u001b[1;33m.\u001b[0m\u001b[0mrequest_uri\u001b[0m\u001b[1;33m,\u001b[0m \u001b[1;33m**\u001b[0m\u001b[0mkw\u001b[0m\u001b[1;33m)\u001b[0m\u001b[1;33m\u001b[0m\u001b[1;33m\u001b[0m\u001b[0m\n\u001b[0m\u001b[0;32m    337\u001b[0m \u001b[1;33m\u001b[0m\u001b[0m\n\u001b[0;32m    338\u001b[0m         \u001b[0mredirect_location\u001b[0m \u001b[1;33m=\u001b[0m \u001b[0mredirect\u001b[0m \u001b[1;32mand\u001b[0m \u001b[0mresponse\u001b[0m\u001b[1;33m.\u001b[0m\u001b[0mget_redirect_location\u001b[0m\u001b[1;33m(\u001b[0m\u001b[1;33m)\u001b[0m\u001b[1;33m\u001b[0m\u001b[1;33m\u001b[0m\u001b[0m\n",
      "\u001b[1;32m~\\anaconda3\\lib\\site-packages\\urllib3\\connectionpool.py\u001b[0m in \u001b[0;36murlopen\u001b[1;34m(self, method, url, body, headers, retries, redirect, assert_same_host, timeout, pool_timeout, release_conn, chunked, body_pos, **response_kw)\u001b[0m\n\u001b[0;32m    668\u001b[0m \u001b[1;33m\u001b[0m\u001b[0m\n\u001b[0;32m    669\u001b[0m             \u001b[1;31m# Make the request on the httplib connection object.\u001b[0m\u001b[1;33m\u001b[0m\u001b[1;33m\u001b[0m\u001b[1;33m\u001b[0m\u001b[0m\n\u001b[1;32m--> 670\u001b[1;33m             httplib_response = self._make_request(\n\u001b[0m\u001b[0;32m    671\u001b[0m                 \u001b[0mconn\u001b[0m\u001b[1;33m,\u001b[0m\u001b[1;33m\u001b[0m\u001b[1;33m\u001b[0m\u001b[0m\n\u001b[0;32m    672\u001b[0m                 \u001b[0mmethod\u001b[0m\u001b[1;33m,\u001b[0m\u001b[1;33m\u001b[0m\u001b[1;33m\u001b[0m\u001b[0m\n",
      "\u001b[1;32m~\\anaconda3\\lib\\site-packages\\urllib3\\connectionpool.py\u001b[0m in \u001b[0;36m_make_request\u001b[1;34m(self, conn, method, url, timeout, chunked, **httplib_request_kw)\u001b[0m\n\u001b[0;32m    424\u001b[0m                     \u001b[1;31m# Python 3 (including for exceptions like SystemExit).\u001b[0m\u001b[1;33m\u001b[0m\u001b[1;33m\u001b[0m\u001b[1;33m\u001b[0m\u001b[0m\n\u001b[0;32m    425\u001b[0m                     \u001b[1;31m# Otherwise it looks like a bug in the code.\u001b[0m\u001b[1;33m\u001b[0m\u001b[1;33m\u001b[0m\u001b[1;33m\u001b[0m\u001b[0m\n\u001b[1;32m--> 426\u001b[1;33m                     \u001b[0msix\u001b[0m\u001b[1;33m.\u001b[0m\u001b[0mraise_from\u001b[0m\u001b[1;33m(\u001b[0m\u001b[0me\u001b[0m\u001b[1;33m,\u001b[0m \u001b[1;32mNone\u001b[0m\u001b[1;33m)\u001b[0m\u001b[1;33m\u001b[0m\u001b[1;33m\u001b[0m\u001b[0m\n\u001b[0m\u001b[0;32m    427\u001b[0m         \u001b[1;32mexcept\u001b[0m \u001b[1;33m(\u001b[0m\u001b[0mSocketTimeout\u001b[0m\u001b[1;33m,\u001b[0m \u001b[0mBaseSSLError\u001b[0m\u001b[1;33m,\u001b[0m \u001b[0mSocketError\u001b[0m\u001b[1;33m)\u001b[0m \u001b[1;32mas\u001b[0m \u001b[0me\u001b[0m\u001b[1;33m:\u001b[0m\u001b[1;33m\u001b[0m\u001b[1;33m\u001b[0m\u001b[0m\n\u001b[0;32m    428\u001b[0m             \u001b[0mself\u001b[0m\u001b[1;33m.\u001b[0m\u001b[0m_raise_timeout\u001b[0m\u001b[1;33m(\u001b[0m\u001b[0merr\u001b[0m\u001b[1;33m=\u001b[0m\u001b[0me\u001b[0m\u001b[1;33m,\u001b[0m \u001b[0murl\u001b[0m\u001b[1;33m=\u001b[0m\u001b[0murl\u001b[0m\u001b[1;33m,\u001b[0m \u001b[0mtimeout_value\u001b[0m\u001b[1;33m=\u001b[0m\u001b[0mread_timeout\u001b[0m\u001b[1;33m)\u001b[0m\u001b[1;33m\u001b[0m\u001b[1;33m\u001b[0m\u001b[0m\n",
      "\u001b[1;32m~\\anaconda3\\lib\\site-packages\\urllib3\\packages\\six.py\u001b[0m in \u001b[0;36mraise_from\u001b[1;34m(value, from_value)\u001b[0m\n",
      "\u001b[1;32m~\\anaconda3\\lib\\site-packages\\urllib3\\connectionpool.py\u001b[0m in \u001b[0;36m_make_request\u001b[1;34m(self, conn, method, url, timeout, chunked, **httplib_request_kw)\u001b[0m\n\u001b[0;32m    419\u001b[0m                 \u001b[1;31m# Python 3\u001b[0m\u001b[1;33m\u001b[0m\u001b[1;33m\u001b[0m\u001b[1;33m\u001b[0m\u001b[0m\n\u001b[0;32m    420\u001b[0m                 \u001b[1;32mtry\u001b[0m\u001b[1;33m:\u001b[0m\u001b[1;33m\u001b[0m\u001b[1;33m\u001b[0m\u001b[0m\n\u001b[1;32m--> 421\u001b[1;33m                     \u001b[0mhttplib_response\u001b[0m \u001b[1;33m=\u001b[0m \u001b[0mconn\u001b[0m\u001b[1;33m.\u001b[0m\u001b[0mgetresponse\u001b[0m\u001b[1;33m(\u001b[0m\u001b[1;33m)\u001b[0m\u001b[1;33m\u001b[0m\u001b[1;33m\u001b[0m\u001b[0m\n\u001b[0m\u001b[0;32m    422\u001b[0m                 \u001b[1;32mexcept\u001b[0m \u001b[0mBaseException\u001b[0m \u001b[1;32mas\u001b[0m \u001b[0me\u001b[0m\u001b[1;33m:\u001b[0m\u001b[1;33m\u001b[0m\u001b[1;33m\u001b[0m\u001b[0m\n\u001b[0;32m    423\u001b[0m                     \u001b[1;31m# Remove the TypeError from the exception chain in\u001b[0m\u001b[1;33m\u001b[0m\u001b[1;33m\u001b[0m\u001b[1;33m\u001b[0m\u001b[0m\n",
      "\u001b[1;32m~\\anaconda3\\lib\\http\\client.py\u001b[0m in \u001b[0;36mgetresponse\u001b[1;34m(self)\u001b[0m\n\u001b[0;32m   1345\u001b[0m         \u001b[1;32mtry\u001b[0m\u001b[1;33m:\u001b[0m\u001b[1;33m\u001b[0m\u001b[1;33m\u001b[0m\u001b[0m\n\u001b[0;32m   1346\u001b[0m             \u001b[1;32mtry\u001b[0m\u001b[1;33m:\u001b[0m\u001b[1;33m\u001b[0m\u001b[1;33m\u001b[0m\u001b[0m\n\u001b[1;32m-> 1347\u001b[1;33m                 \u001b[0mresponse\u001b[0m\u001b[1;33m.\u001b[0m\u001b[0mbegin\u001b[0m\u001b[1;33m(\u001b[0m\u001b[1;33m)\u001b[0m\u001b[1;33m\u001b[0m\u001b[1;33m\u001b[0m\u001b[0m\n\u001b[0m\u001b[0;32m   1348\u001b[0m             \u001b[1;32mexcept\u001b[0m \u001b[0mConnectionError\u001b[0m\u001b[1;33m:\u001b[0m\u001b[1;33m\u001b[0m\u001b[1;33m\u001b[0m\u001b[0m\n\u001b[0;32m   1349\u001b[0m                 \u001b[0mself\u001b[0m\u001b[1;33m.\u001b[0m\u001b[0mclose\u001b[0m\u001b[1;33m(\u001b[0m\u001b[1;33m)\u001b[0m\u001b[1;33m\u001b[0m\u001b[1;33m\u001b[0m\u001b[0m\n",
      "\u001b[1;32m~\\anaconda3\\lib\\http\\client.py\u001b[0m in \u001b[0;36mbegin\u001b[1;34m(self)\u001b[0m\n\u001b[0;32m    305\u001b[0m         \u001b[1;31m# read until we get a non-100 response\u001b[0m\u001b[1;33m\u001b[0m\u001b[1;33m\u001b[0m\u001b[1;33m\u001b[0m\u001b[0m\n\u001b[0;32m    306\u001b[0m         \u001b[1;32mwhile\u001b[0m \u001b[1;32mTrue\u001b[0m\u001b[1;33m:\u001b[0m\u001b[1;33m\u001b[0m\u001b[1;33m\u001b[0m\u001b[0m\n\u001b[1;32m--> 307\u001b[1;33m             \u001b[0mversion\u001b[0m\u001b[1;33m,\u001b[0m \u001b[0mstatus\u001b[0m\u001b[1;33m,\u001b[0m \u001b[0mreason\u001b[0m \u001b[1;33m=\u001b[0m \u001b[0mself\u001b[0m\u001b[1;33m.\u001b[0m\u001b[0m_read_status\u001b[0m\u001b[1;33m(\u001b[0m\u001b[1;33m)\u001b[0m\u001b[1;33m\u001b[0m\u001b[1;33m\u001b[0m\u001b[0m\n\u001b[0m\u001b[0;32m    308\u001b[0m             \u001b[1;32mif\u001b[0m \u001b[0mstatus\u001b[0m \u001b[1;33m!=\u001b[0m \u001b[0mCONTINUE\u001b[0m\u001b[1;33m:\u001b[0m\u001b[1;33m\u001b[0m\u001b[1;33m\u001b[0m\u001b[0m\n\u001b[0;32m    309\u001b[0m                 \u001b[1;32mbreak\u001b[0m\u001b[1;33m\u001b[0m\u001b[1;33m\u001b[0m\u001b[0m\n",
      "\u001b[1;32m~\\anaconda3\\lib\\http\\client.py\u001b[0m in \u001b[0;36m_read_status\u001b[1;34m(self)\u001b[0m\n\u001b[0;32m    266\u001b[0m \u001b[1;33m\u001b[0m\u001b[0m\n\u001b[0;32m    267\u001b[0m     \u001b[1;32mdef\u001b[0m \u001b[0m_read_status\u001b[0m\u001b[1;33m(\u001b[0m\u001b[0mself\u001b[0m\u001b[1;33m)\u001b[0m\u001b[1;33m:\u001b[0m\u001b[1;33m\u001b[0m\u001b[1;33m\u001b[0m\u001b[0m\n\u001b[1;32m--> 268\u001b[1;33m         \u001b[0mline\u001b[0m \u001b[1;33m=\u001b[0m \u001b[0mstr\u001b[0m\u001b[1;33m(\u001b[0m\u001b[0mself\u001b[0m\u001b[1;33m.\u001b[0m\u001b[0mfp\u001b[0m\u001b[1;33m.\u001b[0m\u001b[0mreadline\u001b[0m\u001b[1;33m(\u001b[0m\u001b[0m_MAXLINE\u001b[0m \u001b[1;33m+\u001b[0m \u001b[1;36m1\u001b[0m\u001b[1;33m)\u001b[0m\u001b[1;33m,\u001b[0m \u001b[1;34m\"iso-8859-1\"\u001b[0m\u001b[1;33m)\u001b[0m\u001b[1;33m\u001b[0m\u001b[1;33m\u001b[0m\u001b[0m\n\u001b[0m\u001b[0;32m    269\u001b[0m         \u001b[1;32mif\u001b[0m \u001b[0mlen\u001b[0m\u001b[1;33m(\u001b[0m\u001b[0mline\u001b[0m\u001b[1;33m)\u001b[0m \u001b[1;33m>\u001b[0m \u001b[0m_MAXLINE\u001b[0m\u001b[1;33m:\u001b[0m\u001b[1;33m\u001b[0m\u001b[1;33m\u001b[0m\u001b[0m\n\u001b[0;32m    270\u001b[0m             \u001b[1;32mraise\u001b[0m \u001b[0mLineTooLong\u001b[0m\u001b[1;33m(\u001b[0m\u001b[1;34m\"status line\"\u001b[0m\u001b[1;33m)\u001b[0m\u001b[1;33m\u001b[0m\u001b[1;33m\u001b[0m\u001b[0m\n",
      "\u001b[1;32m~\\anaconda3\\lib\\socket.py\u001b[0m in \u001b[0;36mreadinto\u001b[1;34m(self, b)\u001b[0m\n\u001b[0;32m    667\u001b[0m         \u001b[1;32mwhile\u001b[0m \u001b[1;32mTrue\u001b[0m\u001b[1;33m:\u001b[0m\u001b[1;33m\u001b[0m\u001b[1;33m\u001b[0m\u001b[0m\n\u001b[0;32m    668\u001b[0m             \u001b[1;32mtry\u001b[0m\u001b[1;33m:\u001b[0m\u001b[1;33m\u001b[0m\u001b[1;33m\u001b[0m\u001b[0m\n\u001b[1;32m--> 669\u001b[1;33m                 \u001b[1;32mreturn\u001b[0m \u001b[0mself\u001b[0m\u001b[1;33m.\u001b[0m\u001b[0m_sock\u001b[0m\u001b[1;33m.\u001b[0m\u001b[0mrecv_into\u001b[0m\u001b[1;33m(\u001b[0m\u001b[0mb\u001b[0m\u001b[1;33m)\u001b[0m\u001b[1;33m\u001b[0m\u001b[1;33m\u001b[0m\u001b[0m\n\u001b[0m\u001b[0;32m    670\u001b[0m             \u001b[1;32mexcept\u001b[0m \u001b[0mtimeout\u001b[0m\u001b[1;33m:\u001b[0m\u001b[1;33m\u001b[0m\u001b[1;33m\u001b[0m\u001b[0m\n\u001b[0;32m    671\u001b[0m                 \u001b[0mself\u001b[0m\u001b[1;33m.\u001b[0m\u001b[0m_timeout_occurred\u001b[0m \u001b[1;33m=\u001b[0m \u001b[1;32mTrue\u001b[0m\u001b[1;33m\u001b[0m\u001b[1;33m\u001b[0m\u001b[0m\n",
      "\u001b[1;31mKeyboardInterrupt\u001b[0m: "
     ]
    }
   ],
   "source": [
    "names,addresses,beds,baths,year_built,tenure,property_type,mrt,price,sqft = [],[],[],[],[],[],[],[],[],[]\n",
    "Scrape(1,30)"
   ]
  },
  {
   "cell_type": "code",
   "execution_count": 71,
   "metadata": {
    "scrolled": false
   },
   "outputs": [
    {
     "data": {
      "text/plain": [
       "'https://www.99.co/singapore/sale/property/lumiere-condo-FXCWvkTFzqR85jz8hAPAtS?enquiry_position=68&enquiry_source=Search'"
      ]
     },
     "execution_count": 71,
     "metadata": {},
     "output_type": "execute_result"
    }
   ],
   "source": []
  },
  {
   "cell_type": "code",
   "execution_count": 70,
   "metadata": {},
   "outputs": [
    {
     "data": {
      "text/plain": [
       "['603',\n",
       " '452',\n",
       " '2,207',\n",
       " '700',\n",
       " '1,603',\n",
       " '4,845',\n",
       " '1,292',\n",
       " '1,302',\n",
       " '1,130',\n",
       " '829',\n",
       " '882',\n",
       " '1,001',\n",
       " '904',\n",
       " '893',\n",
       " '700',\n",
       " '484',\n",
       " '990',\n",
       " '893',\n",
       " '2,088',\n",
       " '1,873',\n",
       " '603',\n",
       " '775',\n",
       " '1,119',\n",
       " '1,001',\n",
       " '1,055',\n",
       " '1,281',\n",
       " '1,173',\n",
       " '1,658',\n",
       " '710',\n",
       " '710',\n",
       " '893',\n",
       " '6,231',\n",
       " '1,475',\n",
       " '548',\n",
       " '947',\n",
       " '808',\n",
       " '935',\n",
       " '3,590',\n",
       " '818',\n",
       " '1,389',\n",
       " '753',\n",
       " '861',\n",
       " '1,658',\n",
       " '2,045',\n",
       " '1,044',\n",
       " '947',\n",
       " '775',\n",
       " 'NA',\n",
       " '1,184',\n",
       " '3,074',\n",
       " '571',\n",
       " '915',\n",
       " '2,110',\n",
       " '947',\n",
       " '3,574',\n",
       " '377',\n",
       " '1,119',\n",
       " '1,184',\n",
       " '2,250',\n",
       " '790',\n",
       " '441',\n",
       " '1,119',\n",
       " '4,155',\n",
       " '377',\n",
       " '894',\n",
       " '1,486',\n",
       " '1,098',\n",
       " 'NA',\n",
       " '1,119',\n",
       " '1,313']"
      ]
     },
     "execution_count": 70,
     "metadata": {},
     "output_type": "execute_result"
    }
   ],
   "source": [
    "sqft"
   ]
  },
  {
   "cell_type": "code",
   "execution_count": 72,
   "metadata": {},
   "outputs": [
    {
     "name": "stdout",
     "output_type": "stream",
     "text": [
      "['2 Bed Condo for Sale in Parc Riviera', '1 Bed Condo for Sale in La Fiesta', '3 Bed Condo for Sale in Varsity Park Condominium', 'HDB Flat for Sale in 64 Kallang Bahru', 'HDB Flat for Sale in 581 Pasir Ris Street 53', '5 Bed House for Sale in Kelly Villas', '3 Bed Condo for Sale in Clover By The Park', '2 Bed Condo for Sale in The Rochester Residences', '1 Bed Condo for Sale in Millage', '2 Bed Condo for Sale in Bliss Loft', 'HDB Flat for Sale in 225 Ang Mo Kio Avenue 1', '3 Bed Condo for Sale in Boathouse Residences', 'HDB Flat for Sale in 127 Bishan Street 12', '3 Bed EC for Sale in Ecopolitan', '2 Bed Condo for Sale in Nine Residences', '1 Bed Condo for Sale in Kingsford Waterbay', 'HDB Flat for Sale in 310A Punggol Walk', '2 Bed Condo for Sale in Nin Residence', '3 Bed Condo for Sale in Turquoise', '3 Bed Condo for Sale in Marina Collection', '1 Bed Condo for Sale in The Greenwich', '2 Bed Condo for Sale in The Clift', '3 Bed Condo for Sale in Tiong Bahru Estate', 'HDB Flat for Sale in 288B Compassvale Crescent', '4 Bed Condo for Sale in Kingsford Waterbay', '3 Bed Condo for Sale in Tanjong Ria Condominium', '2 Bed Condo for Sale in South Beach Residences', '4 Bed Condo for Sale in Wallich Residence', '1 Bed Condo for Sale in Marina One Residences', '1 Bed Condo for Sale in Marina One Residences', '2 Bed Condo for Sale in Tiara', '4 Bed House for Sale in Fernhill Crescent', '3 Bed Condo for Sale in Ascentia Sky', '1 Bed Condo for Sale in Kingsford . Hillview Peak', '3 Bed Condo for Sale in Gem Residences', '2 Bed Condo for Sale in Guillemard Suites', '2 Bed Condo for Sale in Esparina Residences', '4 Bed House for Sale in Bena Park', '2 Bed Condo for Sale in Jewel Of Balmoral', '3 Bed Condo for Sale in The Tembusu', '2 Bed Condo for Sale in The Topiary', '2 Bed Condo for Sale in My Manhattan', '4 Bed Condo for Sale in Wallich Residence', '4 Bed Condo for Sale in Marina One Residences', '2 Bed Condo for Sale in 8 St Thomas', '4 Bed Condo for Sale in TRE Residences', '1 Bed Condo for Sale in Marina One Residences', 'Studio Condo for Sale in Grandview Suites', 'HDB Flat for Sale in 303A Anchorvale Link', '6 Bed House for Sale in Tampines Road', '1 Bed Condo for Sale in The Brooks I & II', '2 Bed Condo for Sale in A Treasure Trove', '3 Bed Condo for Sale in The Interlace', '3 Bed Condo for Sale in Adana @ Thomson', '4 Bed Condo for Sale in Seahill', '1 Bed Condo for Sale in Cavan Suites', '2 Bed Condo for Sale in Amber Skye', '2 Bed Condo for Sale in Nathan Place', '3 Bed Condo for Sale in The Montana', '2 Bed Condo for Sale in Sunshine Mansions', '1 Bed Condo for Sale in Queens Peak', '2 Bed Condo for Sale in The Estuary', '4 Bed House for Sale in Mandai Garden', '1 Bed Condo for Sale in Viva Vista', '2 Bed Condo for Sale in Avila Gardens', '2 Bed Condo for Sale in The Waterline', 'HDB Flat for Sale in 56 Cassia Crescent', 'Studio Condo for Sale in Lumiere', 'HDB Flat for Sale in 224 Choa Chu Kang Central', 'HDB Flat for Sale in 234 Simei Street 4']\n",
      "[['(D5)'], ['(D19)'], ['(D5)'], ['(D12)'], ['(D18)'], ['(D15)'], ['(D20)'], ['(D5)'], ['(D14)'], ['(D12)'], ['(D20)'], ['(D19)'], ['(D20)'], ['(D19)'], ['(D27)'], ['(D19)'], ['(D19)'], ['(D13)'], ['(D4)'], ['(D4)'], ['(D28)'], ['(D1)'], ['(D3)'], ['(D19)'], ['(D19)'], ['(D15)'], ['(D7)'], ['(D2)'], ['(D1)'], ['(D1)'], ['(D9)'], ['(D10)'], ['(D3)'], ['(D23)'], ['(D12)'], ['(D14)'], ['(D19)'], ['(D17)'], ['(D10)'], ['(D19)'], ['(D28)'], ['(D18)'], ['(D2)'], ['(D1)'], ['(D9)'], ['(D14)'], ['(D1)'], ['(D14)'], ['(D19)'], ['(D19)'], ['(D26)'], ['(D19)'], ['(D4)'], ['(D20)'], ['(D5)'], ['(D8)'], ['(D15)'], ['(D10)'], ['(D10)'], ['(D15)'], ['(D3)'], ['(D27)'], ['(D26)'], ['(D5)'], ['(D17)'], ['(D19)'], ['(D14)'], ['(D2)'], ['(D23)'], ['(D18)']]\n",
      "['2', '1', '3', '2', '4', '5', '3', '2', '1', '2', '2', '3', '3', '3', '2', '1', '3', '2', '3', '3', '1', '2', '3', '3', '4', '3', '2', '4', '1', '1', '2', '4', '3', '1', '3', '2', '2', '4', '2', '3', '2', '2', '4', '4', '2', '4', '1', 'NA', '3', '6', '1', '2', '3', '3', '4', '1', '2', '2', '3', '2', '1', '2', '4', '1', '2', '2', '3', 'NA', '3', '4']\n",
      "['1', '1', '3', '1', '2', '6', '3', '2', '1', '1', '2', '2', '2', '2', '2', '1', '2', '2', '4', '3', '1', '2', '2', '2', '3', '2', '2', '4', '1', '1', '2', '4', '3', '1', '2', '3', '2', '3', '2', '3', '2', '2', '4', '4', '2', '3', '1', 'NA', '2', '7', '1', '2', '3', '2', '3', '1', '2', '2', '3', '2', '1', '2', '5', '1', '2', '2', '2', 'NA', '2', '2']\n",
      "['2020', '2017', '2008', '1974', '1995', 'NA', '2012', '2011', '2016', '2014', '1978', '2015', '1986', '2016', '2017', '2018', '2016', '2014', '2010', '2011', '2014', '2011', 'NA', 'NA', '2018', '1997', '2016', '2016', '2018', '2018', '1995', 'NA', '2013', '2016', '2020', '2017', '2013', 'NA', '2000', '2017', '2016', '2014', '2016', '2018', '2018', '2018', '2018', '2015', '2001', 'NA', '2016', '2015', '2015', '2019', '2016', '2013', '2017', '2006', '2002', '2006', '2020', '2013', 'NA', '2015', '1995', '2013', '1998', '2010', '1993', '1988']\n",
      "['99', '99', '99', 'NA', '99', 'NA', '99', '99', 'Freehold', 'Freehold', 'NA', '99', 'NA', '99', '99', '99', '99', '99', '99', '99', '99', '99', '99', '99', '99', '99', '99', '99', '99', '99', 'Freehold', 'NA', '99', '99', '99', 'Freehold', '99', 'NA', 'Freehold', 'Freehold', '99', '99', '99', '99', 'Freehold', '99', '99', 'Freehold', '99', 'NA', 'Freehold', '99', '99', 'Freehold', '99', 'Freehold', 'Freehold', 'Freehold', 'Freehold', 'Freehold', '99', '99', '99', 'Freehold', 'Freehold', 'Freehold', '99', '99', 'NA', 'NA']\n",
      "['Condo', 'Condo', 'Condo', 'HDB 3 Rooms', 'HDB', 'Landed', 'Condo', 'Condo', 'Condo', 'Condo', 'HDB 3 Rooms', 'Condo', 'HDB 4 Rooms', 'Executive Condo', 'Condo', 'Condo', 'HDB', 'Condo', 'Condo', 'Condo', 'Condo', 'Apartment', 'Walk-up', 'HDB', 'Condo', 'Condo', 'Condo', 'Condo', 'Condo', 'Condo', 'Condo', 'NA', 'Condo', 'Condo', 'Condo', 'Condo', 'Condo', 'NA', 'Condo', 'Condo', 'Condo', 'Condo', 'Condo', 'Condo', 'Condo', 'Condo', 'Condo', 'Condo', 'HDB', 'NA', 'Apartment', 'Condo', 'Condo', 'Condo', 'Condo', 'Condo', 'Condo', 'Condo', 'Condo', 'Condo', 'Condo', 'Condo', 'Landed', 'Condo', 'Condo', 'Condo', 'HDB', 'Condo', 'HDB 3 Rooms', 'HDB 4 Rooms']\n",
      "['NA', ['(196 m)'], 'NA', ['(1012 m)'], ['(417 m)'], 'NA', 'NA', ['(275 m)'], ['(640 m)'], 'NA', 'NA', ['(1333 m)'], ['(1718 m)'], ['(472 m)'], ['(957 m)'], 'NA', ['(309 m)'], ['(169 m)'], 'NA', 'NA', ['(1379 m)'], ['(329 m)'], ['(934 m)'], ['(697 m)'], 'NA', ['(1350 m)'], ['(127 m)'], ['(75 m)'], ['(160 m)'], ['(160 m)'], ['(2225 m)'], 'NA', ['(134 m)'], ['(445 m)'], ['(736 m)'], ['(513 m)'], ['(203 m)'], 'NA', ['(473 m)'], ['(658 m)'], ['(939 m)'], ['(179 m)'], ['(75 m)'], ['(160 m)'], ['(505 m)'], ['(223 m)'], ['(160 m)'], ['(409 m)'], ['(64 m)'], 'NA', 'NA', ['(273 m)'], 'NA', 'NA', 'NA', ['(470 m)'], 'NA', 'NA', ['(1554 m)'], ['(1059 m)'], ['(82 m)'], ['(780 m)'], 'NA', ['(826 m)'], 'NA', 'NA', ['(439 m)'], ['(242 m)'], ['(80 m)'], ['(233 m)']]\n",
      "['950,000', '688,000', '2,650,000', '300,000', '745,000', '6,100,000', '1,880,000', '1,870,000', '1,450,000', '1,098,000', '375,000', '1,180,000', '560,000', '950,000', '859,000', '620,000', '560,000', '1,250,000', '2,680,000', '3,580,000', '685,000', '1,480,000', '1,119,000', '518,000', '1,398,000', '1,620,000', '4,360,000', '6,038,000', '1,750,000', '1,680,000', '2,050,000', '15,000,000', '2,250,000', '769,999', '1,800,000', '1,200,000', '1,150,000', '3,999,000', '1,650,000', '2,588,000', '786,000', '1,250,000', '6,038,000', '5,500,000', '2,851,000', '1,600,000', '1,580,000', '588,000', '500,000', '4,688,888', '794,000', '1,080,000', '2,700,000', '1,630,000', '3,859,500', '640,000', '2,450,000', '2,300,000', '3,990,000', '990,000', '868,000', '1,000,000', '4,499,000', '650,000', '850,000', '1,645,000', '700,000', '906,000', '450,000', '580,000']\n",
      "['603', '452', '2,207', '700', '1,603', '4,845', '1,292', '1,302', '1,130', '829', '882', '1,001', '904', '893', '700', '484', '990', '893', '2,088', '1,873', '603', '775', '1,119', '1,001', '1,055', '1,281', '1,173', '1,658', '710', '710', '893', '6,231', '1,475', '548', '947', '808', '935', '3,590', '818', '1,389', '753', '861', '1,658', '2,045', '1,044', '947', '775', 'NA', '1,184', '3,074', '571', '915', '2,110', '947', '3,574', '377', '1,119', '1,184', '2,250', '790', '441', '1,119', '4,155', '377', '894', '1,486', '1,098', 'NA', '1,119', '1,313']\n"
     ]
    }
   ],
   "source": [
    "check = [names,addresses,beds,baths,year_built,tenure,property_type,mrt,price,sqft]\n",
    "for c,i in enumerate(check):\n",
    "    print(i)"
   ]
  },
  {
   "cell_type": "code",
   "execution_count": 39,
   "metadata": {},
   "outputs": [
    {
     "data": {
      "text/plain": [
       "'https://www.99.co/singapore/sale/property/kingsford-waterbay-condo-53wVbbwHcKUurdLLvfPnY?enquiry_position=48&enquiry_source=Search'"
      ]
     },
     "execution_count": 39,
     "metadata": {},
     "output_type": "execute_result"
    }
   ],
   "source": [
    "links[12]"
   ]
  },
  {
   "cell_type": "code",
   "execution_count": 35,
   "metadata": {},
   "outputs": [],
   "source": [
    "mrt=[]\n",
    "\n",
    "chrome_options = webdriver.ChromeOptions()\n",
    "driver = webdriver.Chrome(\"chromedriver.exe\")\n",
    "driver.implicitly_wait(20)\n",
    "driver.get('https://www.99.co/singapore/sale/property/south-beach-residences-condo-ZgAybSskiAkGarjTjU72QR?enquiry_position=40&enquiry_source=Search')\n",
    "soup=BeautifulSoup(driver.page_source, 'lxml')\n",
    "mrts = soup.find_all('p', attrs={'class': '_2sIc2 _2rhE- _1c-pJ'})\n",
    "temp2 = ['NA']\n",
    "for i in mrts:\n",
    "    if re.findall('\\(\\d+ m\\)',''.join(i.getText()))!=[]:\n",
    "            temp2[0]=re.findall('\\(\\d+ m\\)',''.join(i.getText()))\n",
    "mrt.append(temp2[0][0])\n"
   ]
  },
  {
   "cell_type": "code",
   "execution_count": 36,
   "metadata": {},
   "outputs": [
    {
     "data": {
      "text/plain": [
       "['(127 m)']"
      ]
     },
     "execution_count": 36,
     "metadata": {},
     "output_type": "execute_result"
    }
   ],
   "source": [
    "mrt"
   ]
  },
  {
   "cell_type": "code",
   "execution_count": 39,
   "metadata": {
    "scrolled": true
   },
   "outputs": [
    {
     "name": "stdout",
     "output_type": "stream",
     "text": [
      "38 Scotts Road · Condo for Sale\n",
      "Orchard / River Valley (D9)\n"
     ]
    }
   ],
   "source": [
    "driver = webdriver.Chrome(\"chromedriver.exe\")\n",
    "driver.get(links[2])\n",
    "soup=BeautifulSoup(driver.page_source, 'lxml')\n",
    "\n",
    "bed = soup.find_all('p', attrs={'class': 'dniCg _3j72o _2rhE-'})\n",
    "\n",
    "for i in bed:\n",
    "    print(i.getText())\n",
    "    \n",
    "# temp1 = ['NA','NA','NA']\n",
    "# for i in bed:\n",
    "#     if 'Bed'or 'Beds' in i.getText().split():\n",
    "#         temp1[0]=i.getText().split()[0]\n",
    "            \n",
    "#     elif 'Bath'or 'Baths' in i.getText().split():\n",
    "#         temp1[1]=i.getText().split()[0]\n",
    "            \n",
    "#     elif 'sqft' in i.getText().split():\n",
    "#         temp1[2]=i.getText().split()[0]\n",
    "            \n",
    "#     else:\n",
    "#         print('error for link with index {}'.format(c))\n",
    "# beds.append(temp1[0])\n",
    "# baths.append(temp1[1])\n",
    "# sqft.append(temp1[2])"
   ]
  },
  {
   "cell_type": "code",
   "execution_count": 17,
   "metadata": {},
   "outputs": [
    {
     "data": {
      "text/plain": [
       "False"
      ]
     },
     "execution_count": 17,
     "metadata": {},
     "output_type": "execute_result"
    }
   ],
   "source": [
    "'bed'in '1 Bath'"
   ]
  },
  {
   "cell_type": "code",
   "execution_count": 11,
   "metadata": {},
   "outputs": [
    {
     "data": {
      "text/plain": [
       "'https://www.99.co/singapore/sale/property/vibes-east-coast-condo-eD5bt8wAydDRkiRFWL8LxS?enquiry_position=41&enquiry_source=Search'"
      ]
     },
     "execution_count": 11,
     "metadata": {},
     "output_type": "execute_result"
    }
   ],
   "source": [
    "links[5]"
   ]
  },
  {
   "cell_type": "code",
   "execution_count": 10,
   "metadata": {},
   "outputs": [
    {
     "data": {
      "text/plain": [
       "[\"1 Bed Condo for Sale in D'leedon\",\n",
       " '4 Bed Condo for Sale in Wallich Residence',\n",
       " '4 Bed Condo for Sale in TRE Residences',\n",
       " '2 Bed Condo for Sale in The Topiary',\n",
       " '1 Bed Condo for Sale in Commonwealth Towers',\n",
       " '2 Bed Condo for Sale in The Clift',\n",
       " 'HDB Flat for Sale in 623 Senja Road',\n",
       " '3 Bed EC for Sale in Waterbay',\n",
       " 'HDB Flat for Sale in 621 Bedok Reservoir Road',\n",
       " '2 Bed Condo for Sale in Marina One Residences',\n",
       " '1 Bed Condo for Sale in The Brooks I & II',\n",
       " '2 Bed Condo for Sale in Sophia Hills',\n",
       " 'HDB Flat for Sale in 530C Pasir Ris Drive 1',\n",
       " '3 Bed Condo for Sale in Eco Sanctuary',\n",
       " '3 Bed Condo for Sale in Gem Residences',\n",
       " '1 Bed Condo for Sale in Loft @ Stevens',\n",
       " '2 Bed Condo for Sale in Bliss Loft',\n",
       " 'HDB Flat for Sale in 310C Punggol Walk',\n",
       " '1 Bed Condo for Sale in Sky Habitat',\n",
       " '5 Bed House for Sale in Frankel Estate',\n",
       " '3 Bed Condo for Sale in The Luxurie',\n",
       " '3 Bed Condo for Sale in South Beach Residences',\n",
       " '2 Bed Condo for Sale in Hillsta',\n",
       " '1 Bed Condo for Sale in Queens Peak',\n",
       " '1 Bed Condo for Sale in The Scotts Tower',\n",
       " '2 Bed Condo for Sale in Esparina Residences',\n",
       " '4 Bed EC for Sale in Twin Fountains',\n",
       " '2 Bed Condo for Sale in 1919',\n",
       " '4 Bed Condo for Sale in Grange Infinite',\n",
       " '1 Bed Condo for Sale in Suites De Laurel',\n",
       " 'HDB Flat for Sale in 129 Pending Road',\n",
       " 'HDB Flat for Sale in 56 Cassia Crescent',\n",
       " '2 Bed Condo for Sale in R66 Apartments',\n",
       " '1 Bed Condo for Sale in Vibes @ East Coast',\n",
       " '3 Bed Condo for Sale in Lake Grande']"
      ]
     },
     "execution_count": 10,
     "metadata": {},
     "output_type": "execute_result"
    }
   ],
   "source": [
    "names"
   ]
  },
  {
   "cell_type": "code",
   "execution_count": 124,
   "metadata": {},
   "outputs": [
    {
     "data": {
      "text/plain": [
       "'https://www.99.co/singapore/sale/property/jupiter-18-condo-fdHWopkq4d9PUEhPEqRSNK?enquiry_position=37&enquiry_source=Search'"
      ]
     },
     "execution_count": 124,
     "metadata": {},
     "output_type": "execute_result"
    }
   ],
   "source": [
    "links[1]"
   ]
  },
  {
   "cell_type": "code",
   "execution_count": 121,
   "metadata": {},
   "outputs": [
    {
     "data": {
      "text/plain": [
       "['6,217,000',\n",
       " '1,088,000',\n",
       " '1,080,000',\n",
       " '1,050,000',\n",
       " '518,888',\n",
       " '1,450,000',\n",
       " '1,200,000',\n",
       " '7,200,000',\n",
       " '698,000',\n",
       " '1,130,000',\n",
       " '799,000',\n",
       " '1,150,000',\n",
       " '799,999',\n",
       " '6,998,000',\n",
       " '1,570,000',\n",
       " '760,000',\n",
       " '1,417,770',\n",
       " '3,500,000',\n",
       " '610,000',\n",
       " '1,380,000',\n",
       " '1,870,000',\n",
       " '3,820,000',\n",
       " '7,500,000',\n",
       " '22,200,000',\n",
       " '838,000',\n",
       " '19,050,000',\n",
       " '2,000,000',\n",
       " '1,390,000',\n",
       " '1,100,000',\n",
       " '495,000',\n",
       " '780,000',\n",
       " '568,000',\n",
       " '1,370,000',\n",
       " '1,450,000',\n",
       " '1,100,000']"
      ]
     },
     "execution_count": 121,
     "metadata": {},
     "output_type": "execute_result"
    }
   ],
   "source": [
    "price"
   ]
  },
  {
   "cell_type": "code",
   "execution_count": 118,
   "metadata": {},
   "outputs": [
    {
     "data": {
      "text/plain": [
       "[]"
      ]
     },
     "execution_count": 118,
     "metadata": {},
     "output_type": "execute_result"
    }
   ],
   "source": []
  },
  {
   "cell_type": "code",
   "execution_count": 50,
   "metadata": {},
   "outputs": [
    {
     "data": {
      "text/plain": [
       "['https://www.99.co/singapore/sale/property/guillemard-suites-condo-Jcu2UErQeqnz3imx4TZpPD?enquiry_position=36&enquiry_source=Search',\n",
       " 'https://www.99.co/singapore/sale/property/esparina-residences-condo-kVVxg4mZWzUFnY2aR6a8UU?enquiry_position=37&enquiry_source=Search',\n",
       " 'https://www.99.co/singapore/sale/property/the-waterside-condo-Yf9rCyKcZS2BddSFwtvJeg?enquiry_position=38&enquiry_source=Search',\n",
       " 'https://www.99.co/singapore/sale/property/the-topiary-condo-qXzHtjrbAUDJsLzobm9ahk?enquiry_position=39&enquiry_source=Search',\n",
       " 'https://www.99.co/singapore/sale/property/my-manhattan-condo-VgxRR3NWAWtPSLmAeHu2HK?enquiry_position=40&enquiry_source=Search',\n",
       " 'https://www.99.co/singapore/sale/property/wallich-residence-condo-vQkt9fFjoWtGFZKMnBHEJ3?enquiry_position=41&enquiry_source=Search',\n",
       " 'https://www.99.co/singapore/sale/property/marina-one-residences-condo-zJLtzgXMNfqBpUzsoSsDpW?enquiry_position=42&enquiry_source=Search',\n",
       " 'https://www.99.co/singapore/sale/property/the-luxurie-condo-8SM2c6jNexgrXCBkd7EjXF?enquiry_position=43&enquiry_source=Search',\n",
       " 'https://www.99.co/singapore/sale/property/8-st-thomas-condo-tmXoxovVEUr8zDksK5vpCD?enquiry_position=44&enquiry_source=Search',\n",
       " 'https://www.99.co/singapore/sale/property/marina-one-residences-condo-LdijffWbbWVajMFmTVL5Y4?enquiry_position=45&enquiry_source=Search',\n",
       " 'https://www.99.co/singapore/sale/property/hilbre-28-condo-NqYGDDHnybgGunPqzccHsY?enquiry_position=46&enquiry_source=Search',\n",
       " 'https://www.99.co/singapore/sale/property/308c-punggol-walk-hdb-zr3atprBEfMW7Ec95e5JNi?enquiry_position=47&enquiry_source=Search',\n",
       " 'https://www.99.co/singapore/sale/property/twin-fountains-condo-MmJEWwHbktF4UPtbc3T93K?enquiry_position=48&enquiry_source=Search',\n",
       " 'https://www.99.co/singapore/sale/property/grandview-suites-condo-GTLTiz87SzZWNXFh3AFMw9?enquiry_position=49&enquiry_source=Search',\n",
       " 'https://www.99.co/singapore/sale/property/tampines-road-landed-DTswZhbEbar2dzs9ajaSsS?enquiry_position=50&enquiry_source=Search',\n",
       " 'https://www.99.co/singapore/sale/property/the-brooks-i-ii-condo-vEcjbpNaZ4PvNNdmZvErhj?enquiry_position=51&enquiry_source=Search',\n",
       " 'https://www.99.co/singapore/sale/property/the-interlace-condo-aKYmqbsfDdT6aEcWSBDeaU?enquiry_position=52&enquiry_source=Search',\n",
       " 'https://www.99.co/singapore/sale/property/adana-thomson-condo-ftHRxQB6iTFyEf7n6BRvQ4?enquiry_position=53&enquiry_source=Search',\n",
       " 'https://www.99.co/singapore/sale/property/a-treasure-trove-condo-A6MAVydtjboWb6FVveemFi?enquiry_position=54&enquiry_source=Search',\n",
       " 'https://www.99.co/singapore/sale/property/seahill-condo-F7uZq9cXzRPCpmaYGvxgGh?enquiry_position=55&enquiry_source=Search',\n",
       " 'https://www.99.co/singapore/sale/property/cavan-suites-condo-K4sE8jWz2AN4rDbnpwr2bA?enquiry_position=56&enquiry_source=Search',\n",
       " 'https://www.99.co/singapore/sale/property/amber-skye-condo-U5G2njUX3PE6Lvu9PnMcT4?enquiry_position=57&enquiry_source=Search',\n",
       " 'https://www.99.co/singapore/sale/property/nathan-place-condo-7vfgJMvkjTfx4yDVyNEfsS?enquiry_position=58&enquiry_source=Search',\n",
       " 'https://www.99.co/singapore/sale/property/sunshine-mansions-condo-uqug95fnmipsNvh9mBii7N?enquiry_position=59&enquiry_source=Search',\n",
       " 'https://www.99.co/singapore/sale/property/the-montana-condo-XRtSgfbh9nBkJ4T3FspPcB?enquiry_position=60&enquiry_source=Search',\n",
       " 'https://www.99.co/singapore/sale/property/the-estuary-condo-SEN4oyWKKxLuVh2u22N4M8?enquiry_position=61&enquiry_source=Search',\n",
       " 'https://www.99.co/singapore/sale/property/meng-suan-road-landed-eTWpP2oPYAVeU8X5HGPqfM?enquiry_position=62&enquiry_source=Search',\n",
       " 'https://www.99.co/singapore/sale/property/queens-peak-condo-Pxs66PAsfJ2RRFqbuKr29g?enquiry_position=63&enquiry_source=Search',\n",
       " 'https://www.99.co/singapore/sale/property/viva-vista-condo-V6JP3JTLZxfb87YDRTothN?enquiry_position=64&enquiry_source=Search',\n",
       " 'https://www.99.co/singapore/sale/property/234-simei-street-4-hdb-noz7sd2cY86u5gdXP2aEsQ?enquiry_position=65&enquiry_source=Search',\n",
       " 'https://www.99.co/singapore/sale/property/avila-gardens-condo-hApsabpPB6JMu9BspTaTWh?enquiry_position=66&enquiry_source=Search',\n",
       " 'https://www.99.co/singapore/sale/property/the-waterline-condo-LjPS8ADh9bhHgr2zWm7yAL?enquiry_position=67&enquiry_source=Search',\n",
       " 'https://www.99.co/singapore/sale/property/56-cassia-crescent-hdb-c4pnkeRnUgLsqtBVsv2Ts5?enquiry_position=68&enquiry_source=Search',\n",
       " 'https://www.99.co/singapore/sale/property/lumiere-condo-FXCWvkTFzqR85jz8hAPAtS?enquiry_position=69&enquiry_source=Search',\n",
       " 'https://www.99.co/singapore/sale/property/suites-eastcoast-condo-EGj5wVAatfrF9JBAz8pvRn?enquiry_position=70&enquiry_source=Search']"
      ]
     },
     "execution_count": 50,
     "metadata": {},
     "output_type": "execute_result"
    }
   ],
   "source": [
    "links =[]\n",
    "for link in soup.find_all('a'):\n",
    "    if type(link.get('href'))==str and 'Search' in link.get('href') :\n",
    "        \n",
    "        links.append('https://www.99.co'+link.get('href'))\n",
    "links"
   ]
  },
  {
   "cell_type": "code",
   "execution_count": 105,
   "metadata": {},
   "outputs": [
    {
     "data": {
      "text/plain": [
       "1"
      ]
     },
     "execution_count": 105,
     "metadata": {},
     "output_type": "execute_result"
    }
   ],
   "source": [
    "chrome_options = webdriver.ChromeOptions()\n",
    "driver = webdriver.Chrome(\"chromedriver.exe\")\n",
    "driver.get('https://www.99.co/singapore/sale/property/marina-one-residences-condo-cE8A8aZACXtbQ37bgSdY73?enquiry_position=1&enquiry_source=Search')\n",
    "soup=BeautifulSoup(driver.page_source, 'lxml')\n",
    "name = soup.find('h1', attrs={'class': '_3Wogd JMF8h lFqTi _1vzK2'})\n",
    "names = []\n",
    "addresses = []\n",
    "beds= []\n",
    "baths = []\n",
    "\n",
    "year_built,tenure,property_type,mrt,price=[],[],[],[],[]\n",
    "\n",
    "names.append(name.getText())\n",
    "\n",
    "len(names)"
   ]
  },
  {
   "cell_type": "code",
   "execution_count": 69,
   "metadata": {},
   "outputs": [],
   "source": [
    "address = soup.find_all('span', attrs={'style': 'white-space:pre-wrap'})\n",
    "a = []\n",
    "for i in address:\n",
    "    a.append(i.getText())\n",
    "\n",
    "addresses.append(re.findall('\\(D\\d\\d\\)',''.join(a)))"
   ]
  },
  {
   "cell_type": "code",
   "execution_count": 131,
   "metadata": {},
   "outputs": [
    {
     "name": "stdout",
     "output_type": "stream",
     "text": [
      "3 Beds\n",
      "3 Baths\n",
      "2,700 sqft\n"
     ]
    }
   ],
   "source": [
    "bed = soup.find_all('p', attrs={'class': '_2sIc2 _29qfj _2rhE-'})\n",
    "\n",
    "\n",
    "for i in bed:\n",
    "    print(i.getText())\n",
    "#     if 'Beds' in i.getText().split():        \n",
    "#         beds.append(i.getText().split()[0])\n",
    "#     elif 'Baths' in i.getText().split():\n",
    "#         baths.append(i.getText().split()[0])\n",
    "#     elif 'sqft' in i.getText().split():\n",
    "#         sqft.append(i.getText().split()[0])\n",
    "#     else:\n",
    "#         print('error')\n"
   ]
  },
  {
   "cell_type": "code",
   "execution_count": 102,
   "metadata": {},
   "outputs": [
    {
     "data": {
      "text/plain": [
       "['99', '2006', 'Terraced House']"
      ]
     },
     "execution_count": 102,
     "metadata": {},
     "output_type": "execute_result"
    }
   ],
   "source": [
    "info = soup.find_all('div', attrs={'class': '_3r4yN XCAFU'})\n",
    "temp = ['NA','NA','NA']\n",
    "housing = ['HDB 2 Rooms','HDB 3 Rooms','HDB 4 Rooms','HDB 5 Rooms','HDB Executive','Condo','Apartment','Walk-up','Executive Condo','Terraced House','Corner Terrace','Semi-Detached','Bungalow','Good Class Bungalow','Cluster House']\n",
    "for i in info:\n",
    "    if 'year' in i.getText().lower():\n",
    "        temp[0]=i.getText()[:2]\n",
    "    elif 'Freehold' in i.getText():\n",
    "        temp[0]=i.getText()\n",
    "    elif re.findall('\\d\\d\\d\\d',i.getText())!=[]:\n",
    "        temp[1]=i.getText()\n",
    "    elif i.getText() in housing:\n",
    "        temp[2]=i.getText()   \n",
    "temp\n",
    "tenure.append(temp[0])\n",
    "year_built.append(temp[1])\n",
    "property_type.append(temp[2])"
   ]
  },
  {
   "cell_type": "code",
   "execution_count": 104,
   "metadata": {},
   "outputs": [
    {
     "name": "stdout",
     "output_type": "stream",
     "text": [
      "This property costs 8% more than the avg. 4-bedroom for sale in District 4\n",
      "This property is 32% larger than the avg. 4-bedroom for sale in District 4\n"
     ]
    }
   ],
   "source": [
    "test = soup.find_all('p', attrs={'class': '_2sIc2 _2rhE- _1c-pJ'})\n",
    "\n",
    "\n",
    "for i in test:\n",
    "    print(i.getText())"
   ]
  },
  {
   "cell_type": "code",
   "execution_count": 108,
   "metadata": {},
   "outputs": [],
   "source": [
    "mrts = soup.find_all('p', attrs={'class': '_2sIc2 _2rhE- _1c-pJ'})\n",
    "\n",
    "temp2 = ['NA']\n",
    "for i in mrts:\n",
    "    if 'min' in i.getText():\n",
    "        temp2[0]=i.getText()[0]\n",
    "mrt.append(temp2[0])"
   ]
  },
  {
   "cell_type": "code",
   "execution_count": 109,
   "metadata": {},
   "outputs": [
    {
     "data": {
      "text/plain": [
       "['5', '5']"
      ]
     },
     "execution_count": 109,
     "metadata": {},
     "output_type": "execute_result"
    }
   ],
   "source": []
  },
  {
   "cell_type": "code",
   "execution_count": null,
   "metadata": {},
   "outputs": [],
   "source": [
    "housing = ['HDB 2 Rooms','HDB 3 Rooms','HDB 4 Rooms','HDB 5 Rooms','HDB Executive','Condo','Apartment','Walk-up','Executive Condo','Terraced House','Corner Terrace','Semi-Detached','Bungalow','Good Class Bungalow','Cluster House']"
   ]
  },
  {
   "cell_type": "code",
   "execution_count": 101,
   "metadata": {},
   "outputs": [
    {
     "data": {
      "text/plain": [
       "['2016']"
      ]
     },
     "execution_count": 101,
     "metadata": {},
     "output_type": "execute_result"
    }
   ],
   "source": [
    "re.findall('\\d\\d\\d\\d','2016')"
   ]
  },
  {
   "cell_type": "code",
   "execution_count": 113,
   "metadata": {},
   "outputs": [
    {
     "data": {
      "text/plain": [
       "'1,750,000'"
      ]
     },
     "execution_count": 113,
     "metadata": {},
     "output_type": "execute_result"
    }
   ],
   "source": [
    "test2 = soup.find('h2', attrs={'class': '_1zGm8 _3na6W _1vzK2'})\n",
    "\n",
    "\n",
    "price.append(test2.getText()[1:])"
   ]
  },
  {
   "cell_type": "code",
   "execution_count": null,
   "metadata": {},
   "outputs": [],
   "source": []
  }
 ],
 "metadata": {
  "kernelspec": {
   "display_name": "Python 3",
   "language": "python",
   "name": "python3"
  },
  "language_info": {
   "codemirror_mode": {
    "name": "ipython",
    "version": 3
   },
   "file_extension": ".py",
   "mimetype": "text/x-python",
   "name": "python",
   "nbconvert_exporter": "python",
   "pygments_lexer": "ipython3",
   "version": "3.8.5"
  }
 },
 "nbformat": 4,
 "nbformat_minor": 4
}
