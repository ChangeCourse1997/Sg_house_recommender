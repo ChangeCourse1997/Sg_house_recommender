{
 "cells": [
  {
   "cell_type": "code",
   "execution_count": null,
   "metadata": {},
   "outputs": [],
   "source": [
    "https://www.99.co/singapore/sale?page_num=2"
   ]
  },
  {
   "cell_type": "code",
   "execution_count": 1,
   "metadata": {},
   "outputs": [],
   "source": [
    "from selenium import webdriver\n",
    "from selenium.webdriver.support.ui import WebDriverWait \n",
    "from selenium.webdriver.support import expected_conditions\n",
    "from bs4 import BeautifulSoup\n",
    "import re\n",
    "import pandas as pd"
   ]
  },
  {
   "cell_type": "code",
   "execution_count": null,
   "metadata": {},
   "outputs": [],
   "source": [
    "https://towardsdatascience.com/scraping-flight-data-using-python-e71b97e859d3\n",
    "    "
   ]
  },
  {
   "cell_type": "code",
   "execution_count": 135,
   "metadata": {
    "scrolled": true
   },
   "outputs": [
    {
     "name": "stdout",
     "output_type": "stream",
     "text": [
      "All good for link 34!\n"
     ]
    }
   ],
   "source": [
    "chrome_options = webdriver.ChromeOptions()\n",
    "driver = webdriver.Chrome(\"chromedriver.exe\")\n",
    "driver.implicitly_wait(20)\n",
    "driver.get('https://www.99.co/singapore/sale?page_num=2')\n",
    "links =[]\n",
    "names,addresses,beds,baths,year_built,tenure,property_type,mrt,price = [],[],[],[],[],[],[],[],[]\n",
    "housing = ['HDB 2 Rooms','HDB 3 Rooms','HDB 4 Rooms','HDB 5 Rooms','HDB Executive','Condo','Apartment','Walk-up','Executive Condo','Terraced House','Corner Terrace','Semi-Detached','Bungalow','Good Class Bungalow','Cluster House']\n",
    "soup=BeautifulSoup(driver.page_source, 'lxml')\n",
    "for link in soup.find_all('a'):\n",
    "    if type(link.get('href'))==str and 'Search' in link.get('href') :\n",
    "        \n",
    "        links.append('https://www.99.co'+link.get('href'))\n",
    "for c,i in enumerate(links):\n",
    "    driver.get(i)\n",
    "    soup=BeautifulSoup(driver.page_source, 'lxml')\n",
    "    name = soup.find('h1', attrs={'class': '_3Wogd JMF8h lFqTi _1vzK2'})\n",
    "    names.append(name.getText())\n",
    "    \n",
    "    address = soup.find_all('span', attrs={'style': 'white-space:pre-wrap'})\n",
    "    a = []\n",
    "    for i in address:\n",
    "        a.append(i.getText())\n",
    "    addresses.append(re.findall('\\(D\\d\\d\\)',''.join(a)))\n",
    "    \n",
    "    bed = soup.find_all('p', attrs={'class': '_2sIc2 _29qfj _2rhE-'})\n",
    "    temp1 = ['NA','NA','NA']\n",
    "    for i in bed:\n",
    "        if 'Bed'or 'Beds' in i.getText().split():\n",
    "            temp1[0]=i.getText().split()[0]\n",
    "            \n",
    "        elif 'Bath'or 'Baths' in i.getText().split():\n",
    "            temp1[1]=i.getText().split()[0]\n",
    "            \n",
    "        elif 'sqft' in i.getText().split():\n",
    "            temp1[2]=i.getText().split()[0]\n",
    "            \n",
    "        else:\n",
    "            print('error for link with index {}'.format(c))\n",
    "    beds.append(temp1[0])\n",
    "    baths.append(temp1[1])\n",
    "    sqft.append(temp1[2])\n",
    "    \n",
    "\n",
    "    info = soup.find_all('div', attrs={'class': '_3r4yN XCAFU'})\n",
    "    temp = ['NA','NA','NA']\n",
    "    \n",
    "    for i in info:\n",
    "        if 'year' in i.getText().lower():\n",
    "            temp[0]=i.getText()[:2]\n",
    "        elif 'Freehold' in i.getText():\n",
    "            temp[0]=i.getText()\n",
    "        elif re.findall('\\d\\d\\d\\d',i.getText())!=[]:\n",
    "            temp[1]=i.getText()\n",
    "        elif i.getText() in housing:\n",
    "            temp[2]=i.getText()   \n",
    "    tenure.append(temp[0])\n",
    "    year_built.append(temp[1])\n",
    "    property_type.append(temp[2])\n",
    "    \n",
    "    mrts = soup.find_all('p', attrs={'class': '_2sIc2 _2rhE- _1c-pJ'})\n",
    "    temp2 = ['NA']\n",
    "    for i in mrts:\n",
    "        if 'min' in i.getText():\n",
    "            temp2[0]=i.getText()[0]\n",
    "    mrt.append(temp2[0])\n",
    "    \n",
    "    \n",
    "    prices = soup.find('h2', attrs={'class': '_1zGm8 _3na6W _1vzK2'})\n",
    "    price.append(prices.getText()[1:])\n",
    "    \n",
    "if len(names)==len(addresses) and len(addresses)==len(beds) and len(beds)==len(baths) and len(baths)==len(year_built) and len(year_built)==len(tenure) and len(tenure)==len(property_type) and len(property_type)==len(mrt) and len(mrt)==len(price):\n",
    "    print('All good for link {}!'.format(c))\n",
    "else:\n",
    "    print('shit')\n",
    "    "
   ]
  },
  {
   "cell_type": "code",
   "execution_count": 133,
   "metadata": {},
   "outputs": [
    {
     "data": {
      "text/plain": [
       "35"
      ]
     },
     "execution_count": 133,
     "metadata": {},
     "output_type": "execute_result"
    }
   ],
   "source": [
    "len(mrt)"
   ]
  },
  {
   "cell_type": "code",
   "execution_count": 124,
   "metadata": {},
   "outputs": [
    {
     "data": {
      "text/plain": [
       "'https://www.99.co/singapore/sale/property/jupiter-18-condo-fdHWopkq4d9PUEhPEqRSNK?enquiry_position=37&enquiry_source=Search'"
      ]
     },
     "execution_count": 124,
     "metadata": {},
     "output_type": "execute_result"
    }
   ],
   "source": [
    "links[1]"
   ]
  },
  {
   "cell_type": "code",
   "execution_count": 121,
   "metadata": {},
   "outputs": [
    {
     "data": {
      "text/plain": [
       "['6,217,000',\n",
       " '1,088,000',\n",
       " '1,080,000',\n",
       " '1,050,000',\n",
       " '518,888',\n",
       " '1,450,000',\n",
       " '1,200,000',\n",
       " '7,200,000',\n",
       " '698,000',\n",
       " '1,130,000',\n",
       " '799,000',\n",
       " '1,150,000',\n",
       " '799,999',\n",
       " '6,998,000',\n",
       " '1,570,000',\n",
       " '760,000',\n",
       " '1,417,770',\n",
       " '3,500,000',\n",
       " '610,000',\n",
       " '1,380,000',\n",
       " '1,870,000',\n",
       " '3,820,000',\n",
       " '7,500,000',\n",
       " '22,200,000',\n",
       " '838,000',\n",
       " '19,050,000',\n",
       " '2,000,000',\n",
       " '1,390,000',\n",
       " '1,100,000',\n",
       " '495,000',\n",
       " '780,000',\n",
       " '568,000',\n",
       " '1,370,000',\n",
       " '1,450,000',\n",
       " '1,100,000']"
      ]
     },
     "execution_count": 121,
     "metadata": {},
     "output_type": "execute_result"
    }
   ],
   "source": [
    "price"
   ]
  },
  {
   "cell_type": "code",
   "execution_count": 118,
   "metadata": {},
   "outputs": [
    {
     "data": {
      "text/plain": [
       "[]"
      ]
     },
     "execution_count": 118,
     "metadata": {},
     "output_type": "execute_result"
    }
   ],
   "source": []
  },
  {
   "cell_type": "code",
   "execution_count": 50,
   "metadata": {},
   "outputs": [
    {
     "data": {
      "text/plain": [
       "['https://www.99.co/singapore/sale/property/guillemard-suites-condo-Jcu2UErQeqnz3imx4TZpPD?enquiry_position=36&enquiry_source=Search',\n",
       " 'https://www.99.co/singapore/sale/property/esparina-residences-condo-kVVxg4mZWzUFnY2aR6a8UU?enquiry_position=37&enquiry_source=Search',\n",
       " 'https://www.99.co/singapore/sale/property/the-waterside-condo-Yf9rCyKcZS2BddSFwtvJeg?enquiry_position=38&enquiry_source=Search',\n",
       " 'https://www.99.co/singapore/sale/property/the-topiary-condo-qXzHtjrbAUDJsLzobm9ahk?enquiry_position=39&enquiry_source=Search',\n",
       " 'https://www.99.co/singapore/sale/property/my-manhattan-condo-VgxRR3NWAWtPSLmAeHu2HK?enquiry_position=40&enquiry_source=Search',\n",
       " 'https://www.99.co/singapore/sale/property/wallich-residence-condo-vQkt9fFjoWtGFZKMnBHEJ3?enquiry_position=41&enquiry_source=Search',\n",
       " 'https://www.99.co/singapore/sale/property/marina-one-residences-condo-zJLtzgXMNfqBpUzsoSsDpW?enquiry_position=42&enquiry_source=Search',\n",
       " 'https://www.99.co/singapore/sale/property/the-luxurie-condo-8SM2c6jNexgrXCBkd7EjXF?enquiry_position=43&enquiry_source=Search',\n",
       " 'https://www.99.co/singapore/sale/property/8-st-thomas-condo-tmXoxovVEUr8zDksK5vpCD?enquiry_position=44&enquiry_source=Search',\n",
       " 'https://www.99.co/singapore/sale/property/marina-one-residences-condo-LdijffWbbWVajMFmTVL5Y4?enquiry_position=45&enquiry_source=Search',\n",
       " 'https://www.99.co/singapore/sale/property/hilbre-28-condo-NqYGDDHnybgGunPqzccHsY?enquiry_position=46&enquiry_source=Search',\n",
       " 'https://www.99.co/singapore/sale/property/308c-punggol-walk-hdb-zr3atprBEfMW7Ec95e5JNi?enquiry_position=47&enquiry_source=Search',\n",
       " 'https://www.99.co/singapore/sale/property/twin-fountains-condo-MmJEWwHbktF4UPtbc3T93K?enquiry_position=48&enquiry_source=Search',\n",
       " 'https://www.99.co/singapore/sale/property/grandview-suites-condo-GTLTiz87SzZWNXFh3AFMw9?enquiry_position=49&enquiry_source=Search',\n",
       " 'https://www.99.co/singapore/sale/property/tampines-road-landed-DTswZhbEbar2dzs9ajaSsS?enquiry_position=50&enquiry_source=Search',\n",
       " 'https://www.99.co/singapore/sale/property/the-brooks-i-ii-condo-vEcjbpNaZ4PvNNdmZvErhj?enquiry_position=51&enquiry_source=Search',\n",
       " 'https://www.99.co/singapore/sale/property/the-interlace-condo-aKYmqbsfDdT6aEcWSBDeaU?enquiry_position=52&enquiry_source=Search',\n",
       " 'https://www.99.co/singapore/sale/property/adana-thomson-condo-ftHRxQB6iTFyEf7n6BRvQ4?enquiry_position=53&enquiry_source=Search',\n",
       " 'https://www.99.co/singapore/sale/property/a-treasure-trove-condo-A6MAVydtjboWb6FVveemFi?enquiry_position=54&enquiry_source=Search',\n",
       " 'https://www.99.co/singapore/sale/property/seahill-condo-F7uZq9cXzRPCpmaYGvxgGh?enquiry_position=55&enquiry_source=Search',\n",
       " 'https://www.99.co/singapore/sale/property/cavan-suites-condo-K4sE8jWz2AN4rDbnpwr2bA?enquiry_position=56&enquiry_source=Search',\n",
       " 'https://www.99.co/singapore/sale/property/amber-skye-condo-U5G2njUX3PE6Lvu9PnMcT4?enquiry_position=57&enquiry_source=Search',\n",
       " 'https://www.99.co/singapore/sale/property/nathan-place-condo-7vfgJMvkjTfx4yDVyNEfsS?enquiry_position=58&enquiry_source=Search',\n",
       " 'https://www.99.co/singapore/sale/property/sunshine-mansions-condo-uqug95fnmipsNvh9mBii7N?enquiry_position=59&enquiry_source=Search',\n",
       " 'https://www.99.co/singapore/sale/property/the-montana-condo-XRtSgfbh9nBkJ4T3FspPcB?enquiry_position=60&enquiry_source=Search',\n",
       " 'https://www.99.co/singapore/sale/property/the-estuary-condo-SEN4oyWKKxLuVh2u22N4M8?enquiry_position=61&enquiry_source=Search',\n",
       " 'https://www.99.co/singapore/sale/property/meng-suan-road-landed-eTWpP2oPYAVeU8X5HGPqfM?enquiry_position=62&enquiry_source=Search',\n",
       " 'https://www.99.co/singapore/sale/property/queens-peak-condo-Pxs66PAsfJ2RRFqbuKr29g?enquiry_position=63&enquiry_source=Search',\n",
       " 'https://www.99.co/singapore/sale/property/viva-vista-condo-V6JP3JTLZxfb87YDRTothN?enquiry_position=64&enquiry_source=Search',\n",
       " 'https://www.99.co/singapore/sale/property/234-simei-street-4-hdb-noz7sd2cY86u5gdXP2aEsQ?enquiry_position=65&enquiry_source=Search',\n",
       " 'https://www.99.co/singapore/sale/property/avila-gardens-condo-hApsabpPB6JMu9BspTaTWh?enquiry_position=66&enquiry_source=Search',\n",
       " 'https://www.99.co/singapore/sale/property/the-waterline-condo-LjPS8ADh9bhHgr2zWm7yAL?enquiry_position=67&enquiry_source=Search',\n",
       " 'https://www.99.co/singapore/sale/property/56-cassia-crescent-hdb-c4pnkeRnUgLsqtBVsv2Ts5?enquiry_position=68&enquiry_source=Search',\n",
       " 'https://www.99.co/singapore/sale/property/lumiere-condo-FXCWvkTFzqR85jz8hAPAtS?enquiry_position=69&enquiry_source=Search',\n",
       " 'https://www.99.co/singapore/sale/property/suites-eastcoast-condo-EGj5wVAatfrF9JBAz8pvRn?enquiry_position=70&enquiry_source=Search']"
      ]
     },
     "execution_count": 50,
     "metadata": {},
     "output_type": "execute_result"
    }
   ],
   "source": [
    "links =[]\n",
    "for link in soup.find_all('a'):\n",
    "    if type(link.get('href'))==str and 'Search' in link.get('href') :\n",
    "        \n",
    "        links.append('https://www.99.co'+link.get('href'))\n",
    "links"
   ]
  },
  {
   "cell_type": "code",
   "execution_count": 105,
   "metadata": {},
   "outputs": [
    {
     "data": {
      "text/plain": [
       "1"
      ]
     },
     "execution_count": 105,
     "metadata": {},
     "output_type": "execute_result"
    }
   ],
   "source": [
    "chrome_options = webdriver.ChromeOptions()\n",
    "driver = webdriver.Chrome(\"chromedriver.exe\")\n",
    "driver.get('https://www.99.co/singapore/sale/property/marina-one-residences-condo-cE8A8aZACXtbQ37bgSdY73?enquiry_position=1&enquiry_source=Search')\n",
    "soup=BeautifulSoup(driver.page_source, 'lxml')\n",
    "name = soup.find('h1', attrs={'class': '_3Wogd JMF8h lFqTi _1vzK2'})\n",
    "names = []\n",
    "addresses = []\n",
    "beds= []\n",
    "baths = []\n",
    "\n",
    "year_built,tenure,property_type,mrt,price=[],[],[],[],[]\n",
    "\n",
    "names.append(name.getText())\n",
    "\n",
    "len(names)"
   ]
  },
  {
   "cell_type": "code",
   "execution_count": 69,
   "metadata": {},
   "outputs": [],
   "source": [
    "address = soup.find_all('span', attrs={'style': 'white-space:pre-wrap'})\n",
    "a = []\n",
    "for i in address:\n",
    "    a.append(i.getText())\n",
    "\n",
    "addresses.append(re.findall('\\(D\\d\\d\\)',''.join(a)))"
   ]
  },
  {
   "cell_type": "code",
   "execution_count": 131,
   "metadata": {},
   "outputs": [
    {
     "name": "stdout",
     "output_type": "stream",
     "text": [
      "3 Beds\n",
      "3 Baths\n",
      "2,700 sqft\n"
     ]
    }
   ],
   "source": [
    "bed = soup.find_all('p', attrs={'class': '_2sIc2 _29qfj _2rhE-'})\n",
    "\n",
    "\n",
    "for i in bed:\n",
    "    print(i.getText())\n",
    "#     if 'Beds' in i.getText().split():        \n",
    "#         beds.append(i.getText().split()[0])\n",
    "#     elif 'Baths' in i.getText().split():\n",
    "#         baths.append(i.getText().split()[0])\n",
    "#     elif 'sqft' in i.getText().split():\n",
    "#         sqft.append(i.getText().split()[0])\n",
    "#     else:\n",
    "#         print('error')\n"
   ]
  },
  {
   "cell_type": "code",
   "execution_count": 102,
   "metadata": {},
   "outputs": [
    {
     "data": {
      "text/plain": [
       "['99', '2006', 'Terraced House']"
      ]
     },
     "execution_count": 102,
     "metadata": {},
     "output_type": "execute_result"
    }
   ],
   "source": [
    "info = soup.find_all('div', attrs={'class': '_3r4yN XCAFU'})\n",
    "temp = ['NA','NA','NA']\n",
    "housing = ['HDB 2 Rooms','HDB 3 Rooms','HDB 4 Rooms','HDB 5 Rooms','HDB Executive','Condo','Apartment','Walk-up','Executive Condo','Terraced House','Corner Terrace','Semi-Detached','Bungalow','Good Class Bungalow','Cluster House']\n",
    "for i in info:\n",
    "    if 'year' in i.getText().lower():\n",
    "        temp[0]=i.getText()[:2]\n",
    "    elif 'Freehold' in i.getText():\n",
    "        temp[0]=i.getText()\n",
    "    elif re.findall('\\d\\d\\d\\d',i.getText())!=[]:\n",
    "        temp[1]=i.getText()\n",
    "    elif i.getText() in housing:\n",
    "        temp[2]=i.getText()   \n",
    "temp\n",
    "tenure.append(temp[0])\n",
    "year_built.append(temp[1])\n",
    "property_type.append(temp[2])"
   ]
  },
  {
   "cell_type": "code",
   "execution_count": 104,
   "metadata": {},
   "outputs": [
    {
     "name": "stdout",
     "output_type": "stream",
     "text": [
      "This property costs 8% more than the avg. 4-bedroom for sale in District 4\n",
      "This property is 32% larger than the avg. 4-bedroom for sale in District 4\n"
     ]
    }
   ],
   "source": [
    "test = soup.find_all('p', attrs={'class': '_2sIc2 _2rhE- _1c-pJ'})\n",
    "\n",
    "\n",
    "for i in test:\n",
    "    print(i.getText())"
   ]
  },
  {
   "cell_type": "code",
   "execution_count": 108,
   "metadata": {},
   "outputs": [],
   "source": [
    "mrts = soup.find_all('p', attrs={'class': '_2sIc2 _2rhE- _1c-pJ'})\n",
    "\n",
    "temp2 = ['NA']\n",
    "for i in mrts:\n",
    "    if 'min' in i.getText():\n",
    "        temp2[0]=i.getText()[0]\n",
    "mrt.append(temp2[0])"
   ]
  },
  {
   "cell_type": "code",
   "execution_count": 109,
   "metadata": {},
   "outputs": [
    {
     "data": {
      "text/plain": [
       "['5', '5']"
      ]
     },
     "execution_count": 109,
     "metadata": {},
     "output_type": "execute_result"
    }
   ],
   "source": []
  },
  {
   "cell_type": "code",
   "execution_count": null,
   "metadata": {},
   "outputs": [],
   "source": [
    "housing = ['HDB 2 Rooms','HDB 3 Rooms','HDB 4 Rooms','HDB 5 Rooms','HDB Executive','Condo','Apartment','Walk-up','Executive Condo','Terraced House','Corner Terrace','Semi-Detached','Bungalow','Good Class Bungalow','Cluster House']"
   ]
  },
  {
   "cell_type": "code",
   "execution_count": 101,
   "metadata": {},
   "outputs": [
    {
     "data": {
      "text/plain": [
       "['2016']"
      ]
     },
     "execution_count": 101,
     "metadata": {},
     "output_type": "execute_result"
    }
   ],
   "source": [
    "re.findall('\\d\\d\\d\\d','2016')"
   ]
  },
  {
   "cell_type": "code",
   "execution_count": 113,
   "metadata": {},
   "outputs": [
    {
     "data": {
      "text/plain": [
       "'1,750,000'"
      ]
     },
     "execution_count": 113,
     "metadata": {},
     "output_type": "execute_result"
    }
   ],
   "source": [
    "test2 = soup.find('h2', attrs={'class': '_1zGm8 _3na6W _1vzK2'})\n",
    "\n",
    "\n",
    "price.append(test2.getText()[1:])"
   ]
  },
  {
   "cell_type": "code",
   "execution_count": null,
   "metadata": {},
   "outputs": [],
   "source": []
  }
 ],
 "metadata": {
  "kernelspec": {
   "display_name": "Python 3",
   "language": "python",
   "name": "python3"
  },
  "language_info": {
   "codemirror_mode": {
    "name": "ipython",
    "version": 3
   },
   "file_extension": ".py",
   "mimetype": "text/x-python",
   "name": "python",
   "nbconvert_exporter": "python",
   "pygments_lexer": "ipython3",
   "version": "3.8.5"
  }
 },
 "nbformat": 4,
 "nbformat_minor": 4
}
